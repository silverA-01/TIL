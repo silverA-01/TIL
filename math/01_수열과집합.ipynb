{
 "cells": [
  {
   "cell_type": "markdown",
   "id": "c930e93d-cfa7-4e32-812d-bd328a462fdd",
   "metadata": {},
   "source": [
    "# 수열과 집합"
   ]
  },
  {
   "cell_type": "markdown",
   "id": "2b651b1f-f659-41c8-a032-a575f7303d37",
   "metadata": {},
   "source": [
    "## 1.수열(Sequence)"
   ]
  },
  {
   "cell_type": "markdown",
   "id": "36aaf4e5-a10c-4994-a429-2d3b92a2727d",
   "metadata": {
    "jp-MarkdownHeadingCollapsed": true
   },
   "source": [
    "N개의 숫자 또는 변수가 **순서대로** 나열된 것\n",
    "\n",
    "$$ 1, 2, 3, 4 $$\n",
    "\n",
    "$$ x_1, x_2, \\ldots, x_{n-1}, x_n $$\n",
    "\n",
    "- 인덱스(index) 존재하기 때문에 $n$번째 데이터 체크 가능\n",
    "  - 일반적인 인덱스는 1부터 시작한다\n",
    "  - 이격 인덱스(offset inedx)는 0부터 시작하고, 주로 프로그래밍 쪽에서 사용한다.\n",
    "    - 이격 인덱스는 첫 번째 데이터로부터 얼마나 떨어져있는지 구하는 것\n",
    "    - `ary` 라는 배열에 대해 `ary[0]`는 첫 번째 데이터로부터 0만큼 떨어져 있다는 뜻"
   ]
  },
  {
   "cell_type": "markdown",
   "id": "767cc935-8aff-4942-bfc5-cef913c0758e",
   "metadata": {},
   "source": [
    "## 2.집합(Set)"
   ]
  },
  {
   "cell_type": "markdown",
   "id": "4ddd87b1-a20f-4dcf-9d82-11d5523e6709",
   "metadata": {},
   "source": [
    "**순서가 중요하지 않는** 숫자들이 나열된 것\r\n",
    "- 중복된 숫자(데이터)가 없다.\r\n",
    "- 집합에서 인덱스는 고유한 id가 된다.\r\n",
    "- 보통 `{}` 기호를 set 이라른다.고 부\n",
    "\n",
    "$$ \\{ 1, 2, 3, 4 \\}$$\n",
    "\n",
    "$$ \\{x_1, x_2, \\dots x_{n-1}, x_n\\} $$\n",
    "\n",
    "$$ x_i:N $$\n",
    "\n",
    "$$ \\{ x_i\\}N $$\n",
    "\n",
    "> - $i$ : 인덱스의 시작값\n",
    "> - $N$ : 인덱스의 끝(마지막)값른다."
   ]
  },
  {
   "cell_type": "markdown",
   "id": "576875e0-68c4-4811-9cd7-cdd38245a1fd",
   "metadata": {},
   "source": [
    "### 실수 집합\r\n",
    "실수(real number) 전체의 집합으로 $\\mathbf{R}$이라는 이름을 가진다.\r\n",
    "- 머신러닝에서 실수집합($\\mathbf{R}$)을 많이 사용\r\n",
    "- 어떤 숫자 $x$가 실수이면 집합 $\\mathbf{R}$에 포함되고 아래 기호로 나타낸다.\r\n",
    "\r\n",
    "$$ x \\in \\mathbf{R} $$\r\n",
    "\r\n",
    "- 두 개의 숫자로 이루어진 숫자 쌍($x_1$, $x_2$)가 있고 각각의 숫자 $x_1$, $x_2$가 모두 실수라면 집합 $\\mathbf{R}$에 포함되고 아래 기호로 나타낸다.\r\n",
    "  - 데이터의 개수만큼 집합 ($\\mathbf{R}$)에 포함된다는 표현을 데이터 개수의 지수로 표현\r\n",
    "  - 아래는 데이터가 두 개이기 때문에 제곱으로 표현됨\r\n",
    "\r\n",
    "$$ (x_1,x_2) \\in \\mathbf{R} \\times \\mathbf{R} $$\r\n",
    "\r\n",
    "$$ (x_1,x_2) \\in \\mathbf{R}^2 $$"
   ]
  },
  {
   "cell_type": "markdown",
   "id": "9de68ffa-0e35-4f47-ace7-6444574b07a0",
   "metadata": {},
   "source": [
    "## 3.수열의 합과 곱"
   ]
  },
  {
   "cell_type": "markdown",
   "id": "71ed8988-d7cc-491f-b60f-a5e1f6655481",
   "metadata": {},
   "source": [
    "### 수열의 합\r\n",
    "수열의 덧셈 연산은 $\\sum$ 기호를 사용\r\n",
    "- $\\sum$ : 썸(sum)이라고 읽는다.\r\n",
    "\r\n",
    "$$ \\sum_{i=1}^N x_i = x_1 + x_2 + \\ldots + x_N $$\r\n",
    "\r\n",
    "- $\\sum$ 기호 위에 인덱스의 시작값($i$), 아래에 인덱스 끝값($N$)을 표시"
   ]
  },
  {
   "cell_type": "markdown",
   "id": "5e030453-78bf-4731-8131-e48f3f36fb50",
   "metadata": {},
   "source": [
    "### 수열의 곱\n",
    "수열의 곱셈 연산은 $\\prod$ 기호를 사용\n",
    "- $\\prod$ : 프로덕트(product)라고 읽는다.\n",
    "\n",
    "$$ \\prod_{i=1}^N x_i = x_1 \\cdot x_2 \\cdots \\ldots \\cdots x_N $$\n",
    "\n",
    "- 곱셈은 알파벳 $x$와 혼동될 수 있기 때문에 점(dot) 기호($\\ldots$)으로 표시하거나 아예 생략\n",
    "  -  $a \\times b$ 대신 $a \\cdot b$으로 표시"
   ]
  },
  {
   "cell_type": "markdown",
   "id": "8ab9bea8-cb04-4a93-8e55-4643094d9c10",
   "metadata": {},
   "source": [
    "### 합과 곱을 중첩하여 사용\r\n",
    "- 아래 처럼 괄호를 생략할 수 있다.\r\n",
    "\r\n",
    "$$\\sum_{i=1}^N \\left( \\sum_{j=1}^M x_{ij} \\right) = \\sum_{i=1}^N \\sum_{j=1}^M x_{{ij}}$$\r\n",
    "\r\n",
    "$$\\prod_{i=1}^N \\left( \\prod_{j=1}^M x_{ij} \\right) = \\prod_{i=1}^N \\prod_{j=1}^M x_{{ij}}$$\r\n",
    "\r\n",
    "- 인덱스가 여러 개 사용된다.\r\n",
    "  - for문을 중첩해서 사용하는 것과 같다.\r\n",
    "  - 위 수식 표현은 파이썬에서 range(1, N+1), range(1, M+1)를 각각 순회하는 이중 for문을 사용한 것과 같은 결과를 가져올 수 있다.\r\n",
    "- 중첩된 합 or 곱 중에 안쪽에 있는 연산을 먼저 진행하고 밖의 연상을 진행"
   ]
  },
  {
   "cell_type": "markdown",
   "id": "2b263f36-f67f-442f-8592-9745914c056b",
   "metadata": {},
   "source": [
    "### 예시\n",
    "\n",
    "$$\n",
    "\\sum_{i=1}^N \\left( \\sum_{j=1}^M x_ix_j \\right)\n",
    "= \\sum_{i=1}^N \\left( x_ix_1 + x_ix_2 + x_ix_3\\right)\n",
    "= \\left( x_1x_1 + x_1x_2 + x_1x_3\\right) + \\left( x_2x_1 + x_2x_2 + x_2x_3\\right)\n",
    "$$"
   ]
  },
  {
   "cell_type": "markdown",
   "id": "cb813df5-ae1f-44ac-bc1f-4537f5ef4c42",
   "metadata": {},
   "source": [
    "### 수열의 곱 - 여러 개의 값 중 하나를 선택하는 경우\r\n",
    "수열 $x_i$는 다음과 같다.\r\n",
    "\r\n",
    "$$\r\n",
    "x_i : x_1,x_2,x_3,x_4\r\n",
    "$$\r\n",
    "\r\n",
    "수열 $x_i$의 값 중 하나만 선택하고 싶다면 $x_i$와 값의 개수가 같고 하나의 값만 1이고 나머지는 0인 수열 $y_i$를 이용한다.\r\n",
    "\r\n",
    "$$\r\n",
    "y_i : 0,1,0,0\r\n",
    "$$\r\n",
    "\r\n",
    "- $\\prod_i x_i^{y_i}$을 계산하면 아래와 같다.\r\n",
    "  1. $i=1$ 일 때\r\n",
    "   \r\n",
    "    $$\\prod_1 x_1^0 = x_1^0 = 1$$\r\n",
    "\r\n",
    "  2. $i=2$ 일 때\r\n",
    "\r\n",
    "     $$\\prod_2 x_2^1 = x_2^1 = x_2$$ \r\n",
    "\r\n",
    "  3. $i=3$ 일 때\r\n",
    "\r\n",
    "     $$\\prod_3 x_3^0 4 x_3^0 = 1$$ \r\n",
    "\r\n",
    "  4. $i=3$ 일 때\r\n",
    "\r\n",
    "     $$\\prod_4 x_4^0 = x_4^0 = 1$$ "
   ]
  },
  {
   "cell_type": "markdown",
   "id": "7d392e60-2e81-4fae-839e-2eeef36655f2",
   "metadata": {},
   "source": [
    "### 수열의 합과 곱 연산의 특징\r\n",
    "1. 인덱스 문자가 바뀌어도 실제 수식은 달라지지 않는다.\r\n",
    "\r\n",
    "   $$\\sum_{i=1}^N x_i = \\sum_{j=1}^N x_j$$ \r\n",
    "\r\n",
    "2. 상수 c를 곱한 후 합을 한 결과는 먼저 합을 구하고 상수를 곱한 것과 같다.\r\n",
    "\r\n",
    "   $$\\sum_{i=1}^N cx_i = c\\sum_{i=1}^N x_i$$\r\n",
    "\r\n",
    "3. 더해야 하는 값들이 여러 항의 합으로 되어 있으면, 각각의 합을 먼저 구한 후에 더해도 된다.\r\n",
    "\r\n",
    "   $$\\sum_{i=1}^N (x_i + y_i) = \\sum_{i=1}^N x_i + \\sum_{i=1}^N y_i$$\r\n",
    "\r\n",
    "4. 합이나 곱을 중첩하는 경우에는 중첩의 순서를 바꾸어도 결과가 같다. \r\n",
    "\r\n",
    "   $$\\sum_{i=1}^N \\sum_{j=1}^M = \\sum_{j=1}^M \\sum_{i=1}^N$$ "
   ]
  },
  {
   "cell_type": "markdown",
   "id": "66a5c5f4-8d54-4a0f-aa10-8ab6a86f9f69",
   "metadata": {},
   "source": [
    "## 4. 집합의 합과 곱"
   ]
  },
  {
   "cell_type": "markdown",
   "id": "3cdd9b43-69c9-4679-8ebf-7b8243cb3632",
   "metadata": {},
   "source": [
    "- 집합의 원소들의 합과 곱을 구할 때는 인덱스 대신 집합 기호를 사용한다.\n",
    "\n",
    "$$\\sum_X x = x_1 + x_2 + x_3$$\n",
    "\n",
    "$$\\prod_X x = x_1 \\cdot x_2 \\cdot x_3$$\n",
    "\n",
    "- 특정한 조건을 가진 원소만 포함시키거나 제외할 수 있다.\n",
    "  - 조건을 인덱스 위치에 표시한다.\n",
    "  - 아래 식은 집합 $X$의 원소 중 0이 아닌 것만 곱한 값을 뜻한다.\n",
    "\n",
    "$$\\prod_{x \\in X, x \\neq 0} x$$"
   ]
  }
 ],
 "metadata": {
  "kernelspec": {
   "display_name": "Python 3 (ipykernel)",
   "language": "python",
   "name": "python3"
  },
  "language_info": {
   "codemirror_mode": {
    "name": "ipython",
    "version": 3
   },
   "file_extension": ".py",
   "mimetype": "text/x-python",
   "name": "python",
   "nbconvert_exporter": "python",
   "pygments_lexer": "ipython3",
   "version": "3.11.6"
  }
 },
 "nbformat": 4,
 "nbformat_minor": 5
}
