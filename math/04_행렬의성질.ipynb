{
 "cells": [
  {
   "cell_type": "markdown",
   "id": "d49dd837-9ceb-4a40-bb6e-9646d303a611",
   "metadata": {},
   "source": [
    "# 행렬의 성질"
   ]
  },
  {
   "cell_type": "markdown",
   "id": "7e7cc35e-2b02-4731-b1b6-12844587367f",
   "metadata": {},
   "source": [
    "- 행렬은 여러 개의 숫자와 부호들의 묶음이다.\n",
    "- 따라서 모든 행렬의 부호나 크기를 정하기 어렵고, 일정 조건에 대해 행렬의 부호와 크기를 정할 수 있다."
   ]
  },
  {
   "cell_type": "markdown",
   "id": "da36f307-29bd-483e-accd-1bba22df3514",
   "metadata": {},
   "source": [
    "## 1.행렬의 부호\n",
    "모든 행렬의 부호에 대해 세 가지 중 하나로 정의할 수 있다.\n",
    "1. (양의) 정부호이다.\n",
    "2. (양의) 준정부호이다.\n",
    "3. 정부호도 준정부호도 아니다.\n",
    "\n",
    "- 보통 대칭행렬에 대해서만 부호를 정의하는 편이다.\n",
    "    - 대칭행렬 : 행렬의 전치연산의 결과가 원래 행렬과 같은 행렬($A^T=A$)\n",
    "    - 대칭행렬이 아닌 경우 부호를 정의할 필요성이 떨어지기 때문\n",
    " \n",
    "- 행렬의 부호를 정의하는 방법\n",
    "    - 벡터 $x$와 행렬 $A$에 대한 수식 $x^TAx$의 값이 0 이상 혹은 초과인지 확인\n",
    "- 조건 : **벡터 $x$가 0벡터가 아닐 때($x \\neq 0$)**\n",
    "    - 벡터 $x$가 0벡터이면 모든 행렬에 대해 수식 $x^TAx$의 결과가 $0$이 나와 양의 준정부호가 되기 때문"
   ]
  },
  {
   "cell_type": "markdown",
   "id": "637c95d9-1823-4187-9801-514ef5df6b9b",
   "metadata": {},
   "source": [
    "### 정부호\n",
    "- 벡터 $x$에 대해 다음 부등식이 성립하면 행렬 $A$가 양의 정부호(positive definite)라고 한다.\n",
    "\n",
    "$$\n",
    "x^TAx > 0\n",
    "$$"
   ]
  },
  {
   "cell_type": "markdown",
   "id": "702e95f4-33dd-4431-8861-6643cff5de2f",
   "metadata": {},
   "source": [
    "### 준정부호\n",
    "- 벡터 $x$에 대해 다음 부등식이 성립하면 행렬 $A$가 양의 준정부호(positive semi-definite)라고 한다.\n",
    "\n",
    "$$\n",
    "x^TAx \\geq = 0\n",
    "$$"
   ]
  },
  {
   "cell_type": "markdown",
   "id": "7b4fa5ad-d75e-4c7b-acae-cc284427f6a5",
   "metadata": {},
   "source": [
    "### 항등행렬 $I$는 양의 정부호\n",
    "- $x^T I x$의 값이 벡터 $x$의 모든 값이 제곱이 되는 형태이기 때문에 항등행렬 $I$는 항상 양의 정부호가 된다.\n",
    "\n",
    "$$\n",
    "x^T I x = \n",
    "\\begin{bmatrix}\n",
    "x_1 & x_2 & \\cdots & x_N\n",
    "\\end{bmatrix}\n",
    "\\begin{bmatrix}\n",
    "1&0&\\cdots&0\\\\\n",
    "0&1&\\cdots&0\\\\\n",
    "\\vdots&\\vdots&\\ddots&\\vdots\\\\\n",
    "0&0&\\cdots&1\\\\\n",
    "\\end{bmatrix}\n",
    "\\begin{bmatrix}\n",
    "x_1 \\\\ x_2 \\\\ \\vdots \\\\ x_N\n",
    "\\end{bmatrix}\n",
    "= x_1^2 + x_2^2 + \\cdots + x_N^2 > 0\n",
    "$$"
   ]
  },
  {
   "cell_type": "markdown",
   "id": "e56a0736-860c-4d97-94e7-74a4116069f3",
   "metadata": {},
   "source": [
    "## 2. 행렬의 크기"
   ]
  },
  {
   "cell_type": "markdown",
   "id": "ed399f2d-e6f7-4755-b900-aa607e29a245",
   "metadata": {},
   "source": [
    "- 특정 조건의 행렬에 대해 세 가지 방법으로 행렬의 크기와 유사한 개념의 숫자를 계산할 수 있다."
   ]
  },
  {
   "cell_type": "markdown",
   "id": "642bbb18-0590-4150-921d-b0dfe9b16511",
   "metadata": {},
   "source": [
    "### 1. 행렬 놈(Norm)\n",
    "- 행렬 놈은 행렬 $A$에 대해 다음 식으로 정의된다.\n",
    "    - 행렬 놈의 여러 정의 중 **요소별 행렬놈의 정의**를 따른 것\n",
    "    - 결과 : 행렬의 각 원소의 $p$승의 합의 $\\frac{1}{p}$승\n",
    "\n",
    "$$\n",
    "\\| A \\|_{p}=\\left( \\sum_{i=1}^N\\sum_{j=1}^M \\left|a_{ij} \\right| ^p\\right)^{\\frac{1}{p}}\n",
    "$$\n",
    "\n",
    "> - $a_{ij}$는 행렬 $A$의 $i$번째 행, $j$번째 열의 원소\n",
    ">\n",
    "> - $p = 1,2,\\ldots,\\infty$\n",
    "\n",
    "* 프로베니우스 놈($p = 2$)\n",
    "    - $p = 2$인 놈\n",
    "    - $p = 2$인 경우 가장 많이 쓰이기 때문에 따로 정의됨\n",
    "    - 아래와 같이 $p$에 대해 생략되거나 $F$라고 표기할 수 있다.\n",
    "\n",
    "$$\n",
    "\\| A \\|_{2}=\\| A \\|=\\| A \\|_{F}=\\sqrt{\\sum_{i=1}^N\\sum_{j=1}^M a_{ij}^2}\n",
    "$$\n",
    "- $a_{ij}^p$를 통해 **놈은 항상 0보다 같거나 크다**는 것을 알 수 있다.\n",
    "- 즉, **놈은 0 또는 양수**이다.\n",
    "    - $a_{ij}=0$일 경우 $0^p$는 $p$($p = 1,2,\\ldots,\\infty$)에 어떤 값이 오든 $a_{ij}^p=0$이 되어 놈의 크기가 $0$이 된다.\n",
    "    - 크기가 0인, 즉 크기가 없는 행렬이 존재한다는 것을 유념"
   ]
  },
  {
   "cell_type": "markdown",
   "id": "06acf671-9871-4271-bf0c-c03bbdad3b46",
   "metadata": {},
   "source": [
    "#### **벡터의 놈**\n",
    "- 행렬과 마찬가지로 벡터의 놈을 구할 수 있다.\n",
    "\n",
    "$$\n",
    "\\| x \\|_p = \\left(\\sum_{i=1}^N x_i^p\\right)^{\\frac{1}{p}}\n",
    "$$\n",
    "\n",
    "- **벡터의 놈의 제곱은 벡터의 제곱합과 같다.**\n",
    "    - 벡터 $x$의 제곱합 : 벡터의 각각의 데이터(요소)를 제곱한 뒤, 그 값을 모두 더한 것으로 데이터 벡터 $x$끼리 내적한 결과($x^Tx$)와 같음\n",
    "\n",
    "$$\n",
    "\\| x \\|^2 = \\sum_{i=1}^N x_i^2 = x^Tx\n",
    "$$\n",
    "\n",
    "- **벡터의 놈을 최소화하는 것은 벡터의 제곱합을 최소화하는 것**과 같다.\n",
    "    - 놈은 $0$ 또는 양수이므로, 벡터의 놈의 제곱이 가장 작을 때 놈도 가장 작은 값을 가지기 때문\n",
    "    - 실제로 놈의 제곱이 가장 작을 때는 $\\| x \\|_p =0$이고 벡터 $x$가 $0$벡터일 때 이와 같은 값이 나오게 된다.\n",
    "    - 선형회귀 모델을 만들 때 오차에 대한 벡터 $e$의 제곱합($e^Te$)을 최소화하기 위해 벡터 $e$의 놈($\\| e \\|^2 $)을 최소화하는 방법을 사용할 수 있다."
   ]
  },
  {
   "cell_type": "markdown",
   "id": "63104827-226f-4357-bd3c-b9694d454d22",
   "metadata": {},
   "source": [
    "- 넘파이에서 `linalg` 서브패키지의 `norm()` 함수를 이용해 행렬의 놈을 계산할 수 있다."
   ]
  },
  {
   "cell_type": "code",
   "execution_count": 6,
   "id": "1f1a7b0f-a98c-4f2c-b6ff-12d52ab3d8af",
   "metadata": {},
   "outputs": [
    {
     "data": {
      "text/plain": [
       "7.745966692414834"
      ]
     },
     "execution_count": 6,
     "metadata": {},
     "output_type": "execute_result"
    }
   ],
   "source": [
    "import numpy as np\n",
    "\n",
    "a = np.array([[-4, -3, -2], [-1,  0,  1], [ 2,  3,  4]])\n",
    "\n",
    "np.linalg.norm(a)"
   ]
  },
  {
   "cell_type": "markdown",
   "id": "e09bc13b-8468-496b-a474-49930543b094",
   "metadata": {},
   "source": [
    "#### 정확한 놈의 정의\n",
    "- 위의 놈의 공식은 공식적인 정의라고 볼 수는 없다.\n",
    "- 정확한 놈의 정의는 다음 네 가지 성질이 성립하는 행렬 연산을 의미한다.\n",
    "    - 이러한 연산이 여러 개 존재하기 때문에 놈의 정의도 다양하다.\n",
    "\n",
    "1. $\\| A \\| \\geq 0$ : 놈의 값은 0 이상이다. 영행렬일 때만 놈의 값이 0이 된다.\n",
    "2. $\\| \\alpha A \\| = \\left| \\alpha \\right| \\| A \\|$ : 행렬에 스칼라($\\alpha$)를 곱하면, 놈의 값도 그 스칼라의 절대값을 곱한것과 같다.\n",
    "3. $\\| A + B \\leq \\| A \\| + \\| B \\|$ : 행렬의 합의 놈은 각 행렬의 놈의 합보다 작거나 같다.\n",
    "4. $\\| AB \\leq \\| A \\| \\| B \\|$ : 행렬의 곱의 놈은 각 행렬의 놈의 곱보다 작거나 같다.\n",
    "\n",
    "- $p=2$일 때 위 조건을 모두 만족하며, 계산하기 간편하기 때문에 $p=2$를 가장 많이 사용한다."
   ]
  },
  {
   "cell_type": "markdown",
   "id": "27e76921-156f-4d97-a19f-02af6792dab6",
   "metadata": {},
   "source": [
    "### 2. 대각합(Trace)\n",
    "- 조건 : 대각합은 **정방행렬에 대해서만 정의**할 수 있다.\n",
    "    - 정방행렬 : 행의 개수와 열의 개수가 같은 행렬\n",
    " \n",
    "- 대각합은 (주)대각원소의 합으로 계산된다.\n",
    "\n",
    "$$\n",
    "\\text{tr}(A) = a_{11} + a_{22} + \\ldots + a_{NN} = \\sum_{i=1}^N a_ii\n",
    "$$\n",
    "\n",
    "- N차원 항등행렬($I$)의 대각합은 $N$이 된다.\n",
    "    - 항등행렬의 주대각원소는 모두 $1$이다.\n",
    "$$\n",
    "\\text{tr}(I) = i_{11} + i_{22} + \\ldots + i_{NN} = = 1 + 1 + \\ldots + 1 = N \\times 1 = N\n",
    "$$\n",
    "\n",
    "- 대각합을 구할 때는 행렬의 원소에 절대값이나 제곱을 취하지 않기 때문에 **음수가 될 수도 있다.**\n",
    "  - 대각합을 크기와 비슷한 개념으로 생각하면 된다. "
   ]
  },
  {
   "cell_type": "markdown",
   "id": "82940b1d-9b85-4d7d-a336-1c2d45aff4b3",
   "metadata": {},
   "source": [
    "#### 대각합의 성질\n",
    "> - 스칼라 $c$, 행렬 $A$, $B$, $C$\n",
    "\n",
    "1. $\\text{tr}(cA)=c\\cdot \\text{tr}(A)$ : 스칼라를 곱하면 대각합은 스칼라와 원래 대각합의 곱이다.\n",
    "2. $\\text{tr}(A^T)=\\text{tr}(A)$ : 전치연산을 해도 대각합은 달라지지 않는다.\n",
    "3. $\\text{tr}(A+B)=\\text{tr}(A)+\\text{tr}(B)$ : 두 행렬의 합의 대각합은 두 행렬의 대각합의 합과 같다.\n",
    "4. $\\text{tr}(AB)=\\text{tr}(BA)$ : 두 행렬의 곱의 대각합은 대각합의 행렬의 순서를 바꾸어도 달라지지 않는다.\n",
    "    - 이 때, 대각합을 구할 $AB$가 정방행렬이기만 하면 된다.\n",
    "5. 세 행렬의 곱의 대각합은 다음과 같이 순서를 순환시켜도 달라지지 않는다.\n",
    "    - $\\text{tr}(ABC)=\\text{tr}(BCA)=\\text{tr}(CAB)$\n",
    "    - $\\text{tr}((AB)C)=\\text{tr}(C(AB))=\\text{tr}((CA)B)=\\text{tr}(B(CA))$\n",
    "    - 대각합을 구할 수 있는 것은 정방행렬이고, 정방행렬의 주대각 요소는 항상 같은 자리에 위치하기 때문에 가능\n",
    "    - 대각합을 구할 $\\text{tr}$식에서의 행렬이 정방행렬이기만 하면 된다.\n",
    "    - 위 식을 **트레이스 트릭(trace trick)** 이라고 한다.\n",
    "  \n",
    "* **이차형식의 트레이스 트릭 공식**은 다음과 같다.\n",
    "    - 이차형식의 결과값은 스칼라값이기 때문에 대각합을 취해도 원래의 값과 같다.\n",
    "    - 행렬 미적분을 구하는데 사용되는 성질이다.\n",
    "$$\n",
    "x^TAx = \\text{tr}(x^TAx) = \\text{tr}(Axx^T) = \\text{tr}(xx^TA) \n",
    "$$\n",
    "\n",
    "$$\n",
    "\\left( x^TAx = \\sum_{i=1}^N\\sum_{j=1}^Na_{i,j}x_ix_j \\right)\n",
    "$$"
   ]
  },
  {
   "cell_type": "markdown",
   "id": "8d0de472-bb5c-48cb-9892-809ad7c31a16",
   "metadata": {},
   "source": [
    "#### 넘파이에서 대각합 구하기\n",
    "- 넘파이에서 `trace()` 함수를 이용해 대각합을 구할 수 있다."
   ]
  },
  {
   "cell_type": "code",
   "execution_count": 7,
   "id": "25b905e2-262f-4510-ba1c-c54115db157c",
   "metadata": {},
   "outputs": [
    {
     "data": {
      "text/plain": [
       "(array([[228]]), 228)"
      ]
     },
     "execution_count": 7,
     "metadata": {},
     "output_type": "execute_result"
    }
   ],
   "source": [
    "x = np.array([[1], [2], [3]])\n",
    "a = np.array([[1, 2, 3], [4, 5, 6], [7, 8, 9]])\n",
    "\n",
    "x.T @ a @ x, np.trace(x.T @ a @ x)"
   ]
  },
  {
   "cell_type": "markdown",
   "id": "b3ce0b25-bc63-4785-a498-71c0af912d1c",
   "metadata": {},
   "source": [
    "### 3. 행렬식"
   ]
  },
  {
   "cell_type": "markdown",
   "id": "a31a3c5d-1e00-4e06-86ee-60777f1219d9",
   "metadata": {},
   "source": []
  },
  {
   "cell_type": "markdown",
   "id": "44c51dc2-291d-495f-bc52-b6cd1b35a115",
   "metadata": {},
   "source": [
    "#### **행렬식의 성질**"
   ]
  },
  {
   "cell_type": "markdown",
   "id": "3a9c74c6-6d18-440a-bc83-8c441577dde4",
   "metadata": {},
   "source": [
    "## 3. 최적의 가중치를 찾아내는 방법"
   ]
  },
  {
   "cell_type": "markdown",
   "id": "fef9eba7-4838-45cf-895a-f847da055955",
   "metadata": {},
   "source": []
  },
  {
   "cell_type": "markdown",
   "id": "883cd8cd-b675-4dc0-8806-b4d844556218",
   "metadata": {},
   "source": [
    "### 1. 선형 연립방적식"
   ]
  },
  {
   "cell_type": "markdown",
   "id": "f8af4cf5-eb20-4ea8-8903-2e902ef89304",
   "metadata": {},
   "source": [
    "### 2. 역행렬"
   ]
  },
  {
   "cell_type": "markdown",
   "id": "6853bdfe-a883-49d6-a57f-f591550fb69e",
   "metadata": {},
   "source": [
    "#### **역행렬의 성질**"
   ]
  },
  {
   "cell_type": "markdown",
   "id": "ecddfcd8-5187-4fc5-972e-60b6c6edb03b",
   "metadata": {},
   "source": [
    "#### **역행렬의 계산**"
   ]
  },
  {
   "cell_type": "markdown",
   "id": "27d6c1a7-1b02-46e5-91b1-623e0a026c2d",
   "metadata": {},
   "source": [
    "#### **역행렬 정리**"
   ]
  }
 ],
 "metadata": {
  "kernelspec": {
   "display_name": "Python 3 (ipykernel)",
   "language": "python",
   "name": "python3"
  },
  "language_info": {
   "codemirror_mode": {
    "name": "ipython",
    "version": 3
   },
   "file_extension": ".py",
   "mimetype": "text/x-python",
   "name": "python",
   "nbconvert_exporter": "python",
   "pygments_lexer": "ipython3",
   "version": "3.11.6"
  }
 },
 "nbformat": 4,
 "nbformat_minor": 5
}
