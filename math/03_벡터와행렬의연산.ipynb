{
 "cells": [
  {
   "cell_type": "markdown",
   "id": "0d962cb6-ed00-4c9d-a470-8ccf36b9e5ce",
   "metadata": {},
   "source": [
    "# 벡터와 행렬의 연산"
   ]
  },
  {
   "cell_type": "markdown",
   "id": "7a407ac0-82a8-4231-a984-880454e4c990",
   "metadata": {},
   "source": [
    "## 1. 벡터와 행렬의 덧셈과 뺄셈"
   ]
  },
  {
   "cell_type": "markdown",
   "id": "6f660453-3d01-44b4-9fcf-7d85248990f4",
   "metadata": {},
   "source": [
    "* 조건 : **같은 크기(차원)를 가진 벡터 or 행렬**\n",
    "* 요소별 연산으로 덧셈과 뺄셈 가능\n",
    "    - **요소별(`element-wise`) 연산** : 같은 위치에 있는 원소끼리 덧셈, 뺄셈 연산"
   ]
  },
  {
   "cell_type": "markdown",
   "id": "0e097ef7-e4e1-4335-98e4-de409dc6ff41",
   "metadata": {},
   "source": [
    "### 벡터의 덧셈과 뺄셈\n",
    "\n",
    "$$\n",
    "x = \\begin{bmatrix} 1 \\\\ 2 \\\\ 3 \\end{bmatrix}, y = \\begin{bmatrix} 4 \\\\ 5 \\\\ 6 \\end{bmatrix}\n",
    "$$\n",
    "\n",
    "$$\n",
    "x + y = \\begin{bmatrix} 1 \\\\ 2 \\\\ 3 \\end{bmatrix} + \\begin{bmatrix} 4 \\\\ 5 \\\\ 6 \\end{bmatrix}\n",
    "=\\begin{bmatrix} 1+4 \\\\ 2+5 \\\\ 3+6 \\end{bmatrix} = \\begin{bmatrix} 5 \\\\ 7 \\\\ 9 \\end{bmatrix}\n",
    "$$\n",
    "\n",
    "$$\n",
    "x - y = \\begin{bmatrix} 1 \\\\ 2 \\\\ 3 \\end{bmatrix} - \\begin{bmatrix} 4 \\\\ 5 \\\\ 6 \\end{bmatrix}\n",
    "=\\begin{bmatrix} 1-4 \\\\ 2-5 \\\\ 3-6 \\end{bmatrix} = \\begin{bmatrix} -3 \\\\ -3 \\\\ -3 \\end{bmatrix}\n",
    "$$"
   ]
  },
  {
   "cell_type": "code",
   "execution_count": 2,
   "id": "41c42333-84ab-465c-ab8b-8c6df25be484",
   "metadata": {},
   "outputs": [],
   "source": [
    "import numpy as np\n",
    "\n",
    "# 열벡터 x, y를 넘파이 2차원 배열로 표현\n",
    "x = np.array([[1], [2], [3]])\n",
    "y = np.array([[4], [5], [6]])"
   ]
  },
  {
   "cell_type": "code",
   "execution_count": 3,
   "id": "a152a719-678a-4725-996d-8d06449e7e81",
   "metadata": {},
   "outputs": [
    {
     "data": {
      "text/plain": [
       "array([[5],\n",
       "       [7],\n",
       "       [9]])"
      ]
     },
     "execution_count": 3,
     "metadata": {},
     "output_type": "execute_result"
    }
   ],
   "source": [
    "# 벡터의 덧셈\n",
    "x + y"
   ]
  },
  {
   "cell_type": "code",
   "execution_count": 4,
   "id": "2289d36c-7e85-49a3-a479-b9730724b54f",
   "metadata": {},
   "outputs": [
    {
     "data": {
      "text/plain": [
       "array([[-3],\n",
       "       [-3],\n",
       "       [-3]])"
      ]
     },
     "execution_count": 4,
     "metadata": {},
     "output_type": "execute_result"
    }
   ],
   "source": [
    "# 벡터의 뺄셈\n",
    "x - y"
   ]
  },
  {
   "cell_type": "markdown",
   "id": "bb6cba40-39c0-4c7b-9e25-c6e228c7b88f",
   "metadata": {},
   "source": [
    "### 행렬의 덧셈과 뺄셈\n",
    "\n",
    "$$\n",
    "X = \\begin{bmatrix} 10&2&5\\\\3&1&9\\\\4&8&11 \\end{bmatrix}, Y = \\begin{bmatrix} 1&2&3\\\\4&5&6\\\\7&8&9 \\end{bmatrix}\n",
    "$$\n",
    "\n",
    "$$\n",
    "X + Y = \\begin{bmatrix} 10+1&2+2&5+3\\\\3+4&1+5&9+6\\\\4+7&8+8&11+9 \\end{bmatrix} = \\begin{bmatrix} 11&4&8\\\\7&6&15\\\\11&16&20 \\end{bmatrix}\n",
    "$$\n",
    "\n",
    "$$\n",
    "X - Y = \\begin{bmatrix} 10-1&2-2&5-3\\\\3-4&1-5&9-6\\\\4-7&8-8&11-9 \\end{bmatrix} = \\begin{bmatrix} 9&0&2\\\\-1&-4&5\\\\-3&0&2 \\end{bmatrix}\n",
    "$$"
   ]
  },
  {
   "cell_type": "code",
   "execution_count": 5,
   "id": "128748cf-94de-4ca6-8b47-9b4d075a8aab",
   "metadata": {},
   "outputs": [],
   "source": [
    "x1 = np.array([[10, 2, 5], [3, 1, 9], [4, 8, 11]])\n",
    "y1 = np.array([[1, 2, 3], [4, 5, 6], [7, 8, 9]])"
   ]
  },
  {
   "cell_type": "code",
   "execution_count": 6,
   "id": "8ed12ea3-983b-461a-ab79-6462ecbddb8d",
   "metadata": {},
   "outputs": [
    {
     "data": {
      "text/plain": [
       "array([[11,  4,  8],\n",
       "       [ 7,  6, 15],\n",
       "       [11, 16, 20]])"
      ]
     },
     "execution_count": 6,
     "metadata": {},
     "output_type": "execute_result"
    }
   ],
   "source": [
    "x1 + y1"
   ]
  },
  {
   "cell_type": "code",
   "execution_count": 7,
   "id": "8caed81a-cd31-4a23-b708-d1239588fdc7",
   "metadata": {},
   "outputs": [
    {
     "data": {
      "text/plain": [
       "array([[ 9,  0,  2],\n",
       "       [-1, -4,  3],\n",
       "       [-3,  0,  2]])"
      ]
     },
     "execution_count": 7,
     "metadata": {},
     "output_type": "execute_result"
    }
   ],
   "source": [
    "x1 - y1"
   ]
  },
  {
   "cell_type": "markdown",
   "id": "ea317ce4-b63e-4dad-877e-d276ead2a3c9",
   "metadata": {},
   "source": [
    "## 2. 스칼라와 벡터, 행렬의 곱셈"
   ]
  },
  {
   "cell_type": "markdown",
   "id": "e1f89325-8e75-43b5-914d-84e5a944548f",
   "metadata": {},
   "source": [
    "- 스칼라값과 벡터/행렬의 곱셈 연산은 **각 벡터/행렬의 원소에 스칼라값을 곱하는 것**과 같다.\n",
    "- 벡터 $x$, 행렬 $A$, 스칼라값 $c$\n",
    "\n",
    "$$\n",
    "c\\begin{bmatrix}x1\\\\x2\\end{bmatrix} = \\begin{bmatrix}cx1\\\\cx2\\end{bmatrix}\n",
    "$$\n",
    "\n",
    "$$\n",
    "c\\begin{bmatrix}a_{11}&a_{12}\\\\a_{21}&a_{22}\\end{bmatrix} = \\begin{bmatrix}ca_{11}&ca_{12}\\\\ca_{21}&ca_{22}\\end{bmatrix}\n",
    "$$"
   ]
  },
  {
   "cell_type": "markdown",
   "id": "5f6ef1cd-864f-4635-939c-baaee1d38f30",
   "metadata": {},
   "source": [
    "## 3. 스칼라와 벡터의 덧셈과 뺄셈"
   ]
  },
  {
   "cell_type": "markdown",
   "id": "33fcc1c8-67c3-4f30-a96c-ede90649df87",
   "metadata": {},
   "source": [
    "### **브로드캐스팅**\n",
    "- 원래 벡터와 덧셈, 뺄셈은 같은 크기(차원)의 두 벡터에 대해서만 가능하다.\n",
    "- **벡터와 스칼라의 덧셈의 경우 브로드캐스팅으로 연산이 가능하다.**\n",
    "- 브로드캐스팅(`broadcating`) : 벡터와 스칼라의 경우에는 관례적으로 1벡터를 사용하여 스칼라를 벡터로 변환하는 연산을 허용하는 것\n",
    "\n",
    "$$\n",
    "x - c = \\begin{bmatrix} x_1 \\\\ x_2 \\\\ \\vdots \\\\ x_N \\end{bmatrix} - c = \\begin{bmatrix} x_1 \\\\ x_2 \\\\ \\vdots \\\\ x_N \\end{bmatrix} - c\\begin{bmatrix} 1 \\\\ 1 \\\\ \\vdots \\\\ 1 \\end{bmatrix} = \\begin{bmatrix} x_1 \\\\ x_2 \\\\ \\vdots \\\\ x_N \\end{bmatrix} - \\begin{bmatrix} c \\\\ c \\\\ \\vdots \\\\ c \\end{bmatrix} = \\begin{bmatrix} x_1 - c \\\\ x_2 - c \\\\ \\vdots \\\\ x_N - c \\end{bmatrix}\n",
    "$$\n",
    "\n",
    "> - 벡터 $x$, 스칼라 $c$"
   ]
  },
  {
   "cell_type": "markdown",
   "id": "c0704a59-4106-4833-8eaf-a0acf0effecb",
   "metadata": {},
   "source": [
    "#### 데이터 분석에서 사용되어지는 브로드 캐스팅\n",
    "- **평균제거(mean removed) 벡터** : 벡터의 각 원소의 평균값($m$)을 뺀 벡터\n",
    "    - 0-평균(zero-mean) 벡터라고도 한다.\n",
    "$$\n",
    "x = \\begin{bmatrix} x_1 \\\\ x_2 \\\\ \\vdots \\\\ x_N \\end{bmatrix} \n",
    "\\rightarrow\n",
    "x - m = \\begin{bmatrix} x_1 - m \\\\ x_2 - m \\\\ \\vdots \\\\ x_N - m\\end{bmatrix}\n",
    "$$\n",
    "> - $m$ : 표본 평균\n",
    "\n",
    "$$\n",
    "m = \\frac{1}{N}\\sum_{i_1}^N x_i\n",
    "$$"
   ]
  },
  {
   "cell_type": "markdown",
   "id": "f398f651-09a8-49cf-8a78-a7a7454a4052",
   "metadata": {},
   "source": [
    "## 4. 선형조합(Linear Combination)"
   ]
  },
  {
   "cell_type": "markdown",
   "id": "ae9db945-3b6d-4760-a0dd-77cca43983dc",
   "metadata": {},
   "source": [
    "- 벡터와 행렬에 스칼라값을 곱한 후 더하거나 뺀 것\n",
    "\n",
    "$$\n",
    "c_1x_1 + c2_x2 + \\ldots + c_Lx_L = x\n",
    "$$\n",
    "\n",
    "$$\n",
    "c_1A_1 + c2_A2 + \\ldots + c_LA_L = A\n",
    "$$\n",
    "\n",
    "- 실수집합의 포함관계를 보면 아래와 같다.\n",
    "\n",
    "$$\n",
    "c_1, c_2 \\ldots, c_L \\in \\mathbf{R}\n",
    "$$\n",
    "\n",
    "$$\n",
    "x_1, x_2 \\ldots, x_L, x \\in \\mathbf{R}^N\n",
    "$$\n",
    "\n",
    "$$\n",
    "A_1, A_2 \\ldots, A_L, A \\in \\mathbf{R}^{N \\times M}\n",
    "$$"
   ]
  },
  {
   "cell_type": "markdown",
   "id": "f6f6a3d2-5247-4ff0-ab47-f71e2b493ec4",
   "metadata": {},
   "source": [
    "- 벡터나 행렬을 선형조합해도 그 크기는 변하지 않는다.\n",
    "- 벡터나 행렬의 크기를 직사각형으로 표시하면 다음과 같다.\n",
    "\n",
    "$$\n",
    "\\begin{matrix}\n",
    "c_1\\,\\boxed{\\begin{matrix} \\phantom{\\LARGE} \\\\ x_1 \\\\ \\phantom{\\LARGE} \\end{matrix}} & + &\n",
    "c_2\\,\\boxed{\\begin{matrix} \\phantom{\\LARGE} \\\\ x_2 \\\\ \\phantom{\\LARGE} \\end{matrix}} & + & \n",
    "\\cdots \\!\\!\\!\\!& + & \n",
    "c_L\\,\\boxed{\\begin{matrix} \\phantom{\\LARGE} \\\\ x_L \\\\ \\phantom{\\LARGE} \\end{matrix}}\n",
    "\\end{matrix}\n",
    "$$\n",
    "\n",
    "$$\n",
    "\\begin{matrix}\n",
    "c_1\\,\\boxed{\\begin{matrix} \\phantom{} & \\phantom{} & \\phantom{} \\\\ & A_1 & \\\\ \\phantom{} & \\phantom{} & \\phantom{} \\end{matrix}} \n",
    "& + &\n",
    "c_2\\,\\boxed{\\begin{matrix} \\phantom{} & \\phantom{} & \\phantom{} \\\\ & A_2 & \\\\ \\phantom{} & \\phantom{} & \\phantom{} \\end{matrix}} \n",
    "& + &\n",
    "\\cdots\n",
    "& + &\n",
    "c_L\\,\\boxed{\\begin{matrix} \\phantom{} & \\phantom{} & \\phantom{} \\\\ & A_L & \\\\ \\phantom{} & \\phantom{} & \\phantom{} \\end{matrix}} \n",
    "\\end{matrix}\n",
    "$$"
   ]
  },
  {
   "cell_type": "markdown",
   "id": "bd26d585-d927-42d8-89c0-c2388fa84036",
   "metadata": {},
   "source": [
    "## 5. 벡터의 내적"
   ]
  },
  {
   "cell_type": "markdown",
   "id": "a38a98df-5da8-43ad-9b0e-3bedbddb55ac",
   "metadata": {},
   "source": [
    "**내적(`inner product`)은 두 벡터 혹은 두 행렬을 곱하는 방법** 중 하나이다.\n",
    "\n",
    "* 두 벡터를 내적하기 위한 조건\n",
    "    1. 두 벡터의 차원(길이)이 같아야 한다.\n",
    "    2. 앞의 벡터가 행벡터이고, 뒤의 벡터가 열벡터여야 한다.\n",
    "\n",
    "### 벡터의 내적 표기법\n",
    "- 내적은 다음과 같이 표기한다.\n",
    "\n",
    "$$\n",
    "x^Ty\n",
    "$$\n",
    "\n",
    "> - 벡터 $x$, 벡터 $y$\n",
    "> - $x, y \\in \\mathbf{R}^N$\n",
    "> - $x^T$는 벡터 $x$를 전치연산한 행벡터\n",
    "\n",
    "- 내적은 `dot`($\\cdot$)으로도 표기할 수 있다.\n",
    "    - 내적(`inner product`)을 닷 프로덕트(`dot product`)라고도 부른다.\n",
    "- 내적은 $<x,y>$기호로도 표기할 수 있다.\n",
    "\n",
    "$$\n",
    "x \\cdot y = <x,y> = x^Ty \n",
    "$$\n",
    "\n",
    "### 내적의 연산 과정\n",
    "* 내적의 연산은 같은 위치에 있는 원소들을 요소별 연산으로 곱하고, 그 값들을 모두 더하는 것이다.\n",
    "* **내적의 결과 : 스칼라값**\n",
    "\n",
    "$$\n",
    "x^Ty = \\begin{bmatrix}x_1&x_2&\\dots&x_N\\end{bmatrix}\\begin{bmatrix}y_1\\\\y_2\\\\\\vdots\\\\y_N\\end{bmatrix}=x_1y_1+\\dots+x_{_N}y_{_N}=\\sum_{i=1}^{N}x_iy_i\n",
    "$$"
   ]
  },
  {
   "cell_type": "markdown",
   "id": "2af27aba-2af2-4d9e-8337-3c10f6a580d0",
   "metadata": {},
   "source": [
    "### 벡터의 내적의 예시\n",
    "\n",
    "$$\n",
    "x=\\begin{bmatrix}1 \\\\ 2 \\\\ 3\\end{bmatrix}, y=\\begin{bmatrix}4 \\\\ 5 \\\\ 6\\end{bmatrix}\n",
    "$$\n",
    "\n",
    "$$\n",
    "x^Ty=\\begin{bmatrix}1 & 2 & 3\\end{bmatrix}\\begin{bmatrix}4 \\\\ 5 \\\\ 6\\end{bmatrix}=1 \\cdot 4 + 2 \\cdot 5 + 3 \\cdot 6 = 32\n",
    "$$"
   ]
  },
  {
   "cell_type": "markdown",
   "id": "f2ddd283-5b8a-471e-bc9a-0d7aa6bffe6d",
   "metadata": {},
   "source": [
    "### 넘파이에서 내적\n",
    "- 넘파이에서 벡터와 행렬의 내적은 `dot()` 함수를 사용하거나 `@`(at) 연산자 사용"
   ]
  },
  {
   "cell_type": "markdown",
   "id": "588c7bcc-a212-4745-a4f2-6c2adb5f8da9",
   "metadata": {},
   "source": [
    "- 2차원 배열로 만든 벡터를 내적했을 때\n",
    "    - return value : 2차원 배열\n",
    "    - 위에서 본 내적의 결과인 스칼라값이 배열의 요소로 들어가 있는 것을 확인할 수 있다."
   ]
  },
  {
   "cell_type": "code",
   "execution_count": 8,
   "id": "e5bc2a39-eb75-437c-94a5-5aa92af3615c",
   "metadata": {},
   "outputs": [],
   "source": [
    "import numpy as np\n",
    "\n",
    "x = np.array([[1],[2],[3]])\n",
    "y = np.array([[4],[5],[6]])"
   ]
  },
  {
   "cell_type": "code",
   "execution_count": 9,
   "id": "d709de33-336b-40d5-9750-83ce59f0e554",
   "metadata": {},
   "outputs": [
    {
     "data": {
      "text/plain": [
       "array([[32]])"
      ]
     },
     "execution_count": 9,
     "metadata": {},
     "output_type": "execute_result"
    }
   ],
   "source": [
    "# 벡터x를 전치연산한 행벡터를 x.T로 나타낼 수 있다.\n",
    "np.dot(x.T, y)"
   ]
  },
  {
   "cell_type": "code",
   "execution_count": 10,
   "id": "b3f6d675-2d9e-41be-8c04-9f97542e7d7e",
   "metadata": {},
   "outputs": [
    {
     "data": {
      "text/plain": [
       "array([[32]])"
      ]
     },
     "execution_count": 10,
     "metadata": {},
     "output_type": "execute_result"
    }
   ],
   "source": [
    "x.T @ y"
   ]
  },
  {
   "cell_type": "markdown",
   "id": "1721fbc9-9083-4b1c-a8a2-be886b7fabcc",
   "metadata": {},
   "source": [
    "- 1차원 배열로 만든 벡터로 내적했을 때\n",
    "    - 앞에 위치하는 벡터를 전치연산한 행벡터로 표현하지 않아도 넘파이에서 행벡터로 가정하고, 뒤의 벡터는 열벡터라고 가정한다.\n",
    "    - return value : 스칼라값"
   ]
  },
  {
   "cell_type": "code",
   "execution_count": 11,
   "id": "52a44819-6d80-43a3-8251-b83b4299fdc6",
   "metadata": {},
   "outputs": [],
   "source": [
    "x = np.array([1, 2, 3])\n",
    "y = np.array([4, 5, 6])"
   ]
  },
  {
   "cell_type": "code",
   "execution_count": 12,
   "id": "cba2b2ef-a663-4069-9063-5c0f46ed33d8",
   "metadata": {},
   "outputs": [
    {
     "data": {
      "text/plain": [
       "32"
      ]
     },
     "execution_count": 12,
     "metadata": {},
     "output_type": "execute_result"
    }
   ],
   "source": [
    "np.dot(x, y)"
   ]
  },
  {
   "cell_type": "code",
   "execution_count": 13,
   "id": "ef5427ea-077a-4caf-9eb5-8f1921fa5b25",
   "metadata": {},
   "outputs": [
    {
     "data": {
      "text/plain": [
       "32"
      ]
     },
     "execution_count": 13,
     "metadata": {},
     "output_type": "execute_result"
    }
   ],
   "source": [
    "x @ y"
   ]
  },
  {
   "cell_type": "markdown",
   "id": "a929219d-6ddb-439c-9b4c-9538c9a3cbb9",
   "metadata": {},
   "source": [
    "## 6. 데이터 분석에서 사용하는 벡터의 내적"
   ]
  },
  {
   "cell_type": "markdown",
   "id": "c93fb085-8eef-4b47-a01b-67d7ea924957",
   "metadata": {},
   "source": [
    "### 가중치 (Weight)\n",
    "- 전체에서 데이터(입력값)가 **결과에 영향을 미치는 중요도를 조절**하는 매개변수\n",
    "- 가중치 절대값이 클수록 결과에 영향을 많이 미친다. 즉, 결과의 변동이 커진다.\n",
    "- 머신러닝에서 가중치는 AI의 학습 대상이 된다.\n",
    "- 예측 결과가 실제 결과에 최대한 가까워질 수 있도록 가중치를 설정하는 것이 중요하다."
   ]
  },
  {
   "cell_type": "markdown",
   "id": "6f815fd8-c854-4c5a-82d3-925dc5998405",
   "metadata": {},
   "source": [
    "### 1. 가중합(Weighted Sum)"
   ]
  },
  {
   "cell_type": "markdown",
   "id": "09a8dad4-0d7b-44e7-a019-46d14b1fad07",
   "metadata": {},
   "source": [
    "- **데이터 벡터와 가중치 벡터의 내적의 결과**\n",
    "- 배열에 들어있는 각각의 데이터(요소 or 값)에 **어떤 가중치를 곱한 후** 곱셈 결과들을 다시 합한 것\n",
    "\n",
    "* 데이터 벡터 x의 가중합 구하기\n",
    "> - 데이터 벡터 $x$, 가중치 벡터 $w$\n",
    "\n",
    "$$\n",
    "x = \\begin{bmatrix}x_1\\\\\\vdots\\\\x_N\\end{bmatrix}, w = \\begin{bmatrix}w_1\\\\\\vdots\\\\w_N\\end{bmatrix}\n",
    "$$\n",
    "\n",
    "$$\n",
    "w_1x_1 + \\ldots + w_Nx_N = \\sum_{i=1}^N w_ix_i\n",
    "$$\n",
    "\n",
    "* 데이터 벡터 x의 가중합 수식 표현\n",
    "\n",
    "$$\n",
    "\\sum_{i=1}^N w_ix_i = w^Tx = x^Tw\n",
    "$$\n",
    "\n",
    "\n",
    "$$\n",
    "w^Tx = \\begin{bmatrix}w_1 & \\ldots & w_N\\end{bmatrix}\\begin{bmatrix}x_1\\\\\\vdots\\\\x_N\\end{bmatrix} = w_1x_1 + \\ldots + w_Nx_N = \\sum_{i=1}^N w_ix_i\n",
    "$$\n",
    "\n",
    "$$\n",
    "x^Tw = \\begin{bmatrix}x_1 & \\ldots & x_N\\end{bmatrix}\\begin{bmatrix}w_1\\\\\\vdots\\\\w_N\\end{bmatrix} = x_1w_1 + \\ldots + x_Nw_N = \\sum_{i=1}^N x_iw_i = \\sum_{i=1}^N w_ix_i\n",
    "$$\n",
    "\n",
    "* 가중치 벡터가 일벡터($1_N$)일 경우 가중합\n",
    "    - 가중합은 데이터 백터의 데이터(요소 or 값)을 모두 더한 일반적인 합(`sum`)이 된다.\n",
    "\n",
    "$$\n",
    "x = \\begin{bmatrix}x_1\\\\\\vdots\\\\x_N\\end{bmatrix}, w = 1_N \\rightarrow w_1 = w_2 = \\ldots \\ w_N = 1\n",
    "$$\n",
    "\n",
    "$$\n",
    "w^Tx = \\begin{bmatrix}1 & \\ldots & 1\\end{bmatrix}\\begin{bmatrix}x_1\\\\\\vdots\\\\x_N\\end{bmatrix} = x_1 + \\ldots + x_N = \\sum_{i=1}^N x_i\n",
    "$$"
   ]
  },
  {
   "cell_type": "markdown",
   "id": "aa1bfaa9-4b0c-4ede-8489-0799174d2f7b",
   "metadata": {},
   "source": [
    "### 2. 가중 평균(Weighted Average)"
   ]
  },
  {
   "cell_type": "markdown",
   "id": "45d4895b-5592-4ba5-bfc5-82ee982ed072",
   "metadata": {},
   "source": [
    "- 가중합($\\sum_{i=1}^N w_ix_i$)을 전체 가중치 값의 합($\\sum_{i=1}^N w$)으로 나눈 것\n",
    "- 가중 평균 구하기\n",
    "\n",
    "$$\n",
    "\\bar{x} = \\frac{\\sum_{i=1}^N w_ix_i}{\\sum_{i=1}^N w} = \\frac{w_1x_1 + w_2x_2 + \\ldots + w_Nx_N}{w_1 + w_2 + \\ldots + w_N}\n",
    "$$\n",
    "\n",
    "> - $\\bar{x}$는 벡터 x의 가중 평균을 의미하고, 엑스 바(`x bar`)라고 읽는다.\n",
    "\n",
    "* 가중치 벡터가 일벡터($1_N$)일 경우 가중평균\n",
    "    - 단순 평균이 된다.\n",
    "$$\n",
    "x = \\begin{bmatrix}x_1\\\\\\vdots\\\\x_N\\end{bmatrix}, w = 1_N \\rightarrow w_1 = w_2 = \\ldots \\ w_N = 1\n",
    "$$\n",
    "\n",
    "$$\n",
    "\\bar{x} = \\frac{\\sum_{i=1}^N w_ix_i}{\\sum_{i=1}^N w} = \\frac{x_1 + x_2 + \\ldots + x_N}{1 + 1 + \\ldots + 1} = \\frac{\\sum_{i=1}^N x_i}{1 \\times N} = \\frac{1}{N}\\sum_{i=1}^N x_i\n",
    "$$"
   ]
  },
  {
   "cell_type": "markdown",
   "id": "0164669e-ac23-45f4-9949-691747dbf3c2",
   "metadata": {},
   "source": [
    "### 3. 유사도(Similarity)"
   ]
  },
  {
   "cell_type": "markdown",
   "id": "5ef03481-9ee8-44b6-9917-ddcede62ef33",
   "metadata": {},
   "source": [
    "- **두 벡터가 닮은 정도를 하나의 값으로 나타낸 값**\n",
    "- 스칼라로 표현됨\n",
    "- 두 벡터가 비슷한 경우 유사도가 커지고, 비슷하지 않은 경우 유사도가 작아진다."
   ]
  },
  {
   "cell_type": "markdown",
   "id": "b9533dcf-7bbb-4d70-9129-9cdccac830b6",
   "metadata": {},
   "source": [
    "#### 유사도 예시\n",
    "0과 1을 나타내는 MNIST 이미지 데이터 셋\n",
    "- MNIST : 손으로 쓴 글자 데이터셋에서 숫자만 따로 뽑아낸 데이터셋\n",
    "- **숫자 이미지 두 벡터의 내적값이 높으면 유사도가 크다.** 즉 두 벡터에 해당하는 숫자 이미지가 상대적으로 비슷하다고 판단한다."
   ]
  },
  {
   "cell_type": "code",
   "execution_count": 10,
   "id": "86eb582e-7b03-42a3-b906-eabb88fb40f8",
   "metadata": {},
   "outputs": [
    {
     "data": {
      "text/plain": [
       "(array([[ 0.,  0.,  5., 13.,  9.,  1.,  0.,  0.],\n",
       "        [ 0.,  0., 13., 15., 10., 15.,  5.,  0.],\n",
       "        [ 0.,  3., 15.,  2.,  0., 11.,  8.,  0.],\n",
       "        [ 0.,  4., 12.,  0.,  0.,  8.,  8.,  0.],\n",
       "        [ 0.,  5.,  8.,  0.,  0.,  9.,  8.,  0.],\n",
       "        [ 0.,  4., 11.,  0.,  1., 12.,  7.,  0.],\n",
       "        [ 0.,  2., 14.,  5., 10., 12.,  0.,  0.],\n",
       "        [ 0.,  0.,  6., 13., 10.,  0.,  0.,  0.]]),\n",
       " array([[ 0.,  0.,  1.,  9., 15., 11.,  0.,  0.],\n",
       "        [ 0.,  0., 11., 16.,  8., 14.,  6.,  0.],\n",
       "        [ 0.,  2., 16., 10.,  0.,  9.,  9.,  0.],\n",
       "        [ 0.,  1., 16.,  4.,  0.,  8.,  8.,  0.],\n",
       "        [ 0.,  4., 16.,  4.,  0.,  8.,  8.,  0.],\n",
       "        [ 0.,  1., 16.,  5.,  1., 11.,  3.,  0.],\n",
       "        [ 0.,  0., 12., 12., 10., 10.,  0.,  0.],\n",
       "        [ 0.,  0.,  1., 10., 13.,  3.,  0.,  0.]]),\n",
       " array([[ 0.,  0.,  0., 12., 13.,  5.,  0.,  0.],\n",
       "        [ 0.,  0.,  0., 11., 16.,  9.,  0.,  0.],\n",
       "        [ 0.,  0.,  3., 15., 16.,  6.,  0.,  0.],\n",
       "        [ 0.,  7., 15., 16., 16.,  2.,  0.,  0.],\n",
       "        [ 0.,  0.,  1., 16., 16.,  3.,  0.,  0.],\n",
       "        [ 0.,  0.,  1., 16., 16.,  6.,  0.,  0.],\n",
       "        [ 0.,  0.,  1., 16., 16.,  6.,  0.,  0.],\n",
       "        [ 0.,  0.,  0., 11., 16., 10.,  0.,  0.]]),\n",
       " array([[ 0.,  0.,  0.,  0., 14., 13.,  1.,  0.],\n",
       "        [ 0.,  0.,  0.,  5., 16., 16.,  2.,  0.],\n",
       "        [ 0.,  0.,  0., 14., 16., 12.,  0.,  0.],\n",
       "        [ 0.,  1., 10., 16., 16., 12.,  0.,  0.],\n",
       "        [ 0.,  3., 12., 14., 16.,  9.,  0.,  0.],\n",
       "        [ 0.,  0.,  0.,  5., 16., 15.,  0.,  0.],\n",
       "        [ 0.,  0.,  0.,  4., 16., 14.,  0.,  0.],\n",
       "        [ 0.,  0.,  0.,  1., 13., 16.,  1.,  0.]]))"
      ]
     },
     "execution_count": 10,
     "metadata": {},
     "output_type": "execute_result"
    }
   ],
   "source": [
    "# 사이킷런 데이터셋에서 load_digits(손글씨 데이터)를 가져온다.\n",
    "# 터미널에서 $pip install scikit-learn 으로 사이킷런을 설치할 수 있다.\n",
    "from sklearn.datasets import load_digits\n",
    "\n",
    "# 8X8 차원의 행렬인 2차원 배열들\n",
    "digits = load_digits()\n",
    "d1 = digits.images[0]\n",
    "d2 = digits.images[10]\n",
    "d3 = digits.images[1]\n",
    "d4 = digits.images[11]\n",
    "\n",
    "\n",
    "d1, d2, d3, d4"
   ]
  },
  {
   "cell_type": "code",
   "execution_count": 11,
   "id": "7ebedb71-3d51-4db4-8b9d-083dc39b7e68",
   "metadata": {},
   "outputs": [
    {
     "data": {
      "text/plain": [
       "(array([[ 0.],\n",
       "        [ 0.],\n",
       "        [ 5.],\n",
       "        [13.],\n",
       "        [ 9.],\n",
       "        [ 1.],\n",
       "        [ 0.],\n",
       "        [ 0.],\n",
       "        [ 0.],\n",
       "        [ 0.],\n",
       "        [13.],\n",
       "        [15.],\n",
       "        [10.],\n",
       "        [15.],\n",
       "        [ 5.],\n",
       "        [ 0.],\n",
       "        [ 0.],\n",
       "        [ 3.],\n",
       "        [15.],\n",
       "        [ 2.],\n",
       "        [ 0.],\n",
       "        [11.],\n",
       "        [ 8.],\n",
       "        [ 0.],\n",
       "        [ 0.],\n",
       "        [ 4.],\n",
       "        [12.],\n",
       "        [ 0.],\n",
       "        [ 0.],\n",
       "        [ 8.],\n",
       "        [ 8.],\n",
       "        [ 0.],\n",
       "        [ 0.],\n",
       "        [ 5.],\n",
       "        [ 8.],\n",
       "        [ 0.],\n",
       "        [ 0.],\n",
       "        [ 9.],\n",
       "        [ 8.],\n",
       "        [ 0.],\n",
       "        [ 0.],\n",
       "        [ 4.],\n",
       "        [11.],\n",
       "        [ 0.],\n",
       "        [ 1.],\n",
       "        [12.],\n",
       "        [ 7.],\n",
       "        [ 0.],\n",
       "        [ 0.],\n",
       "        [ 2.],\n",
       "        [14.],\n",
       "        [ 5.],\n",
       "        [10.],\n",
       "        [12.],\n",
       "        [ 0.],\n",
       "        [ 0.],\n",
       "        [ 0.],\n",
       "        [ 0.],\n",
       "        [ 6.],\n",
       "        [13.],\n",
       "        [10.],\n",
       "        [ 0.],\n",
       "        [ 0.],\n",
       "        [ 0.]]),\n",
       " array([[ 0.],\n",
       "        [ 0.],\n",
       "        [ 1.],\n",
       "        [ 9.],\n",
       "        [15.],\n",
       "        [11.],\n",
       "        [ 0.],\n",
       "        [ 0.],\n",
       "        [ 0.],\n",
       "        [ 0.],\n",
       "        [11.],\n",
       "        [16.],\n",
       "        [ 8.],\n",
       "        [14.],\n",
       "        [ 6.],\n",
       "        [ 0.],\n",
       "        [ 0.],\n",
       "        [ 2.],\n",
       "        [16.],\n",
       "        [10.],\n",
       "        [ 0.],\n",
       "        [ 9.],\n",
       "        [ 9.],\n",
       "        [ 0.],\n",
       "        [ 0.],\n",
       "        [ 1.],\n",
       "        [16.],\n",
       "        [ 4.],\n",
       "        [ 0.],\n",
       "        [ 8.],\n",
       "        [ 8.],\n",
       "        [ 0.],\n",
       "        [ 0.],\n",
       "        [ 4.],\n",
       "        [16.],\n",
       "        [ 4.],\n",
       "        [ 0.],\n",
       "        [ 8.],\n",
       "        [ 8.],\n",
       "        [ 0.],\n",
       "        [ 0.],\n",
       "        [ 1.],\n",
       "        [16.],\n",
       "        [ 5.],\n",
       "        [ 1.],\n",
       "        [11.],\n",
       "        [ 3.],\n",
       "        [ 0.],\n",
       "        [ 0.],\n",
       "        [ 0.],\n",
       "        [12.],\n",
       "        [12.],\n",
       "        [10.],\n",
       "        [10.],\n",
       "        [ 0.],\n",
       "        [ 0.],\n",
       "        [ 0.],\n",
       "        [ 0.],\n",
       "        [ 1.],\n",
       "        [10.],\n",
       "        [13.],\n",
       "        [ 3.],\n",
       "        [ 0.],\n",
       "        [ 0.]]),\n",
       " array([[ 0.],\n",
       "        [ 0.],\n",
       "        [ 0.],\n",
       "        [12.],\n",
       "        [13.],\n",
       "        [ 5.],\n",
       "        [ 0.],\n",
       "        [ 0.],\n",
       "        [ 0.],\n",
       "        [ 0.],\n",
       "        [ 0.],\n",
       "        [11.],\n",
       "        [16.],\n",
       "        [ 9.],\n",
       "        [ 0.],\n",
       "        [ 0.],\n",
       "        [ 0.],\n",
       "        [ 0.],\n",
       "        [ 3.],\n",
       "        [15.],\n",
       "        [16.],\n",
       "        [ 6.],\n",
       "        [ 0.],\n",
       "        [ 0.],\n",
       "        [ 0.],\n",
       "        [ 7.],\n",
       "        [15.],\n",
       "        [16.],\n",
       "        [16.],\n",
       "        [ 2.],\n",
       "        [ 0.],\n",
       "        [ 0.],\n",
       "        [ 0.],\n",
       "        [ 0.],\n",
       "        [ 1.],\n",
       "        [16.],\n",
       "        [16.],\n",
       "        [ 3.],\n",
       "        [ 0.],\n",
       "        [ 0.],\n",
       "        [ 0.],\n",
       "        [ 0.],\n",
       "        [ 1.],\n",
       "        [16.],\n",
       "        [16.],\n",
       "        [ 6.],\n",
       "        [ 0.],\n",
       "        [ 0.],\n",
       "        [ 0.],\n",
       "        [ 0.],\n",
       "        [ 1.],\n",
       "        [16.],\n",
       "        [16.],\n",
       "        [ 6.],\n",
       "        [ 0.],\n",
       "        [ 0.],\n",
       "        [ 0.],\n",
       "        [ 0.],\n",
       "        [ 0.],\n",
       "        [11.],\n",
       "        [16.],\n",
       "        [10.],\n",
       "        [ 0.],\n",
       "        [ 0.]]),\n",
       " array([[ 0.],\n",
       "        [ 0.],\n",
       "        [ 0.],\n",
       "        [ 0.],\n",
       "        [14.],\n",
       "        [13.],\n",
       "        [ 1.],\n",
       "        [ 0.],\n",
       "        [ 0.],\n",
       "        [ 0.],\n",
       "        [ 0.],\n",
       "        [ 5.],\n",
       "        [16.],\n",
       "        [16.],\n",
       "        [ 2.],\n",
       "        [ 0.],\n",
       "        [ 0.],\n",
       "        [ 0.],\n",
       "        [ 0.],\n",
       "        [14.],\n",
       "        [16.],\n",
       "        [12.],\n",
       "        [ 0.],\n",
       "        [ 0.],\n",
       "        [ 0.],\n",
       "        [ 1.],\n",
       "        [10.],\n",
       "        [16.],\n",
       "        [16.],\n",
       "        [12.],\n",
       "        [ 0.],\n",
       "        [ 0.],\n",
       "        [ 0.],\n",
       "        [ 3.],\n",
       "        [12.],\n",
       "        [14.],\n",
       "        [16.],\n",
       "        [ 9.],\n",
       "        [ 0.],\n",
       "        [ 0.],\n",
       "        [ 0.],\n",
       "        [ 0.],\n",
       "        [ 0.],\n",
       "        [ 5.],\n",
       "        [16.],\n",
       "        [15.],\n",
       "        [ 0.],\n",
       "        [ 0.],\n",
       "        [ 0.],\n",
       "        [ 0.],\n",
       "        [ 0.],\n",
       "        [ 4.],\n",
       "        [16.],\n",
       "        [14.],\n",
       "        [ 0.],\n",
       "        [ 0.],\n",
       "        [ 0.],\n",
       "        [ 0.],\n",
       "        [ 0.],\n",
       "        [ 1.],\n",
       "        [13.],\n",
       "        [16.],\n",
       "        [ 1.],\n",
       "        [ 0.]]))"
      ]
     },
     "execution_count": 11,
     "metadata": {},
     "output_type": "execute_result"
    }
   ],
   "source": [
    "# d1, d2, d3, d4 배열을 64X1 차원의 행렬, 즉 64차원의 열벡터로 형태 수정\n",
    "v1 = d1.reshape(64, 1)\n",
    "v2 = d2.reshape(64, 1)\n",
    "v3 = d3.reshape(64, 1)\n",
    "v4 = d4.reshape(64, 1)\n",
    "\n",
    "v1, v2, v3, v4"
   ]
  },
  {
   "cell_type": "code",
   "execution_count": 14,
   "id": "527c181f-e1bc-4e83-8d29-99683b138a5c",
   "metadata": {},
   "outputs": [
    {
     "data": {
      "image/png": "[encoded data removed]",
      "text/plain": [
       "<Figure size 900x900 with 8 Axes>"
      ]
     },
     "metadata": {},
     "output_type": "display_data"
    }
   ],
   "source": [
    "# 데이터를 시각화하기 위해 멧플롯립 라이브러리의 gridspec 가져온다.\n",
    "# gridspec을 이용하면 여러 Axex를 자기가 원하는 대로 배치할 수 있다.\n",
    "# Axex 안에 그림(이미지)가 그려진다.\n",
    "import matplotlib.pylab as plt\n",
    "import matplotlib.gridspec as gridspec\n",
    "\n",
    "# 그래프 사이즈 설정\n",
    "plt.figure(figsize=(9, 9))\n",
    "\n",
    "# GridSpec 객체 gs 생성\n",
    "# GridSpec() - 첫 번째 인자 row 개수, 두 번째 인자 column 개수\n",
    "gs = gridspec.GridSpec(1, 8, height_ratios=[1],\n",
    "                       width_ratios=[9, 1, 9, 1, 9, 1, 9, 1])\n",
    "\n",
    "# GridSpec 객체를 생성했다고 Axes의 배치를 직접 볼 수 없기 때문에 subplot 생성\n",
    "# subplot의 인자로 GridSpec 객체 gs를 넘겨주고, gs의 인덱싱을 통해 Axes를 원하는 위치에 배치할 수 있다.\n",
    "for i in range(4):\n",
    "    plt.subplot(gs[2 * i])\n",
    "    # imshow 메서드로 이미지 파일을 읽어서 그래프로 나타낼 수 있게 한다.\n",
    "    plt.imshow(eval(\"d\" + str(i + 1)), aspect=1,\n",
    "               interpolation='nearest', cmap=plt.cm.bone_r)\n",
    "    plt.grid(False)\n",
    "    plt.xticks([])\n",
    "    plt.yticks([])\n",
    "    plt.title(\"image {}\".format(i + 1))\n",
    "    plt.subplot(gs[2 * i + 1])\n",
    "    plt.imshow(eval(\"v\" + str(i + 1)), aspect=0.25,\n",
    "               interpolation='nearest', cmap=plt.cm.bone_r)\n",
    "    plt.grid(False)\n",
    "    plt.xticks([])\n",
    "    plt.yticks([])\n",
    "    plt.title(\"vector {}\".format(i + 1))\n",
    "    \n",
    "plt.tight_layout()\n",
    "# 이미지 표시 - imshow 메서드만으로는 좌표평면이 표시되는 결과 창이 나타나지 않을 수 있음\n",
    "plt.show()"
   ]
  },
  {
   "cell_type": "code",
   "execution_count": 15,
   "id": "cea5b4e0-5223-4ba9-b578-98b3450838d9",
   "metadata": {},
   "outputs": [
    {
     "data": {
      "text/plain": [
       "array([[3064.]])"
      ]
     },
     "execution_count": 15,
     "metadata": {},
     "output_type": "execute_result"
    }
   ],
   "source": [
    "# 0 이미지 - 벡터 v1, 벡터 v2\n",
    "# 0 이미지에 대한 유사도를 파악하기 위해 벡터 v1, 벡터 v2의 내적값 확인\n",
    "\n",
    "v1.T @ v2"
   ]
  },
  {
   "cell_type": "code",
   "execution_count": 16,
   "id": "50d8c8dd-a8fd-4f10-8c42-bb43c63dc5f1",
   "metadata": {},
   "outputs": [
    {
     "data": {
      "text/plain": [
       "array([[3661.]])"
      ]
     },
     "execution_count": 16,
     "metadata": {},
     "output_type": "execute_result"
    }
   ],
   "source": [
    "# 1 이미지 - 벡터 v3, 벡터 v4\n",
    "# 1 이미지에 대한 유사도를 파악하기 위해 벡터 v3, 벡터 v4의 내적값 확인\n",
    "\n",
    "v3.T @ v4"
   ]
  },
  {
   "cell_type": "code",
   "execution_count": 17,
   "id": "f25015ca-6667-441c-9abc-27c063f914f4",
   "metadata": {},
   "outputs": [
    {
     "data": {
      "text/plain": [
       "(array([[1866.]]), array([[2479.]]))"
      ]
     },
     "execution_count": 17,
     "metadata": {},
     "output_type": "execute_result"
    }
   ],
   "source": [
    "# 0 이미지와 1 이미지의 유사도를 파악하기 위해\n",
    "# 벡터 v1와 벡터 v3의 내적값, 벡터 v2와 벡터 v4의 내적값 확인 \n",
    "\n",
    "v1.T @ v3, v2.T @ v4"
   ]
  },
  {
   "cell_type": "markdown",
   "id": "816138b3-304e-47c9-9489-5fafeac339d8",
   "metadata": {},
   "source": [
    "- 같은 숫자 끼리의 내적값이 높고, 다른 숫자 끼리의 내적값이 낮은 것을 확인할 수 있다.\n",
    "- 결론 : 숫자 이미지 벡터의 내적값이 높으면 상대적으로 비슷하다.(유사도가 높다.)"
   ]
  },
  {
   "cell_type": "markdown",
   "id": "b7bc93ca-9669-45c4-8773-2c0d66d98510",
   "metadata": {},
   "source": [
    "### 4. 선형회귀 모형(Linear Regression Model)"
   ]
  },
  {
   "cell_type": "markdown",
   "id": "1bf0c8ac-53db-43a4-b83f-c2e81847d80b",
   "metadata": {},
   "source": [
    "- 독립변수 $x$에서 종속변수 $y$를 예측하는 방법의 하나\n",
    "    - 가장 단순하면서도 가장 널리 쓰이는 예측 방법\n",
    "    - 독립변수 : 다른 변수와 서로 영향을 주지 않는 변수\n",
    "    - 종속변수 : 다른 변수에 영향을 받아 결정\n",
    "        - $y$는 $x$의 변화에 따라 영향을 받는 $x$의 종속 변수 \n",
    "- 독립변수 $x$와 가중치 벡터 $w$와의 **가중합으로 $y$에 대한 예측값 $\\hat{y}$를 계산하는 수식**\n",
    "    - $y$는 $x$가 실제 입력 데이터를 받았을 때 수식을 계산한 실제값\n",
    "    - $\\hat{y}$는 $x$가 입력 데이터를 받기 전 미지수로 설정했을 때 $y$에 대한 예측값이다.\n",
    "        - $\\hat{y}$는 와이 햇(`y hat`)이라고 읽는다.\n",
    "\n",
    "$$\n",
    "\\hat{y} = w_1x_1 + \\ldots + w_Nx_N = \\sum_{i=1}^N w_ix_i\n",
    "$$\n",
    "\n",
    "- 벡터의 내적으로 선형회귀 모형을 아래와 같이 표현 가능\n",
    "\n",
    "$$\n",
    "\\hat{y} = w^Tx\n",
    "$$"
   ]
  },
  {
   "cell_type": "markdown",
   "id": "a31d2048-0644-420b-a3c4-8160886a477c",
   "metadata": {},
   "source": [
    "#### 선형회귀 모형의 단점\n",
    "- 선형회귀 모형은 **비선형적인 현실 세계의 데이터를 예측하거나 분석하는데 비효율적**이다.\n",
    "    - 선형적 : 직선\n",
    "    - 비선형적 : 직선이 아님\n",
    "- 머신러닝에서 선형회귀 모델이 **추세성을 잘 나타낼 수 있는 가중치를 구하는 것**이 중요하다.\n",
    "    - 추세성 : 현실 데이터를 반영하는 것\n",
    "\n",
    "* 수정 회귀 모형 \n",
    "    - 현실과 선형회귀 모형의 괴리감을 줄여주기 위한 다양한 방법 중 하나\n",
    "    - 선형회귀를 기반으로 한 여러 알고리즘 모형을 사용\n",
    "    - ex. Ridge, Lasso, ElasticNet, SVM 등"
   ]
  },
  {
   "cell_type": "markdown",
   "id": "6d4542f0-89fa-431c-9d9f-f509fe659956",
   "metadata": {},
   "source": [
    "### 5. 제곱합"
   ]
  },
  {
   "cell_type": "markdown",
   "id": "d6c8e620-2595-48cd-837f-9e36c6ef2485",
   "metadata": {},
   "source": [
    "- **각각의 데이터를 제곱한 뒤, 그 값을 모두 더한 것**\n",
    "- **데이터 벡터 $x$끼리 내적한 결과**와 같음\n",
    "- 데이터의 분산(Variance)이나 표준편차(Standard Deviation)등을 구하는 경우 제곱합을 계산한다.\n",
    "\n",
    "$$\n",
    "x^Tx = \\begin{bmatrix}x_1 & \\ldots & x_N\\end{bmatrix}\\begin{bmatrix}x_1\\\\\\vdots\\\\x_N\\end{bmatrix} = x_1x_1 + \\ldots + x_Nx_N = \\sum_{i=1}^N x_i^2 \n",
    "$$"
   ]
  },
  {
   "cell_type": "markdown",
   "id": "d54ff847-62d4-4dcb-bf47-c92eb446287b",
   "metadata": {},
   "source": [
    "## 7. 행렬과 행렬의 곱셈"
   ]
  },
  {
   "cell_type": "markdown",
   "id": "70c848c4-ef4f-4fce-ac9f-2ca930f622bd",
   "metadata": {},
   "source": [
    "### 행렬의 내적"
   ]
  },
  {
   "cell_type": "markdown",
   "id": "289316b8-7566-46d8-8002-e8eff43b5540",
   "metadata": {},
   "source": [
    "- 행렬간 내적의 조건 : **앞의 행렬의 열의 수**와 **뒤의 행렬의 행의 수**가 **일치**\n",
    "\n",
    "$$\n",
    "A \\in \\mathbf{R}^{N \\times L}, B \\in \\mathbf{R}^{L \\times M} \\rightarrow AB = \\mathbf{R}^{N \\times M}\n",
    "$$\n",
    "\n",
    "- 내적의 결과값 : 행렬\n",
    "\n",
    "$$\n",
    "AB = C\\rightarrow a_{il}b_{lj} = c_{ij} = a_i^Tb_j\n",
    "$$\n",
    "\n",
    "$$\n",
    "AB \n",
    "= \n",
    "\\begin{bmatrix} \n",
    "a_{11} & a_{12} &\\ldots & a_{1L} \\\\\n",
    "a_{21} & a_{22} &\\ldots & a_{2L} \\\\\n",
    "\\vdots & \\vdots & \\cdots & \\vdots \\\\\n",
    "a_{N1} & a_{N2} &\\ldots & a_{NL} \n",
    "\\end{bmatrix}\n",
    "\\begin{bmatrix}\n",
    "b_{11} &\\ldots & b_{1M} \\\\\n",
    "b_{21} &\\ldots & b_{2M} \\\\\n",
    "\\vdots & \\cdots & \\vdots \\\\\n",
    "b_{L1} &\\ldots & b_{LM} \n",
    "\\end{bmatrix}\n",
    "=\n",
    "\\begin{bmatrix}\n",
    "a_{11}b_{11} + a_{12}b_{12} + \\ldots + a_{1L}b_{1L} &\\ldots & a_{11}b_{1M} + a_{12}b_{1M} + \\ldots + a_{1L}b_{1M} \\\\\n",
    "a_{21}b_{11} + a_{22}b_{22} + \\ldots + a_{2L}b_{1L} &\\ldots & a_{21}b_{1M} + a_{22}b_{1M} + \\ldots + a_{2L}b_{1M} \\\\\n",
    "\\vdots \\vdots & \\cdots & \\vdots \\\\\n",
    "a_{N1}b_{11} + a_{N2}b_{12} + \\ldots + a_{NL}b_{1L} &\\ldots & a_{N1}b_{NM} + a_{12}b_{NM} + \\ldots + a_{1L}b_{1M}\n",
    "\\end{bmatrix}\n",
    "$$\n",
    "\n",
    "- 인공신경망은 내부적으로 여러개의 선형회귀 모형을 갖는데 행렬의 내적으로 간단하게 표현 가능\n",
    "\n",
    "$$\n",
    "\\begin{bmatrix}\n",
    "\\hat{y_1} \\\\ \\hat{y_2}\n",
    "\\end{bmatrix}\n",
    "=\n",
    "\\begin{bmatrix}\n",
    "w_11 & w_12 & w_13 \\\\ w_21 & w_22 & w_23\n",
    "\\end{bmatrix}\n",
    "\\begin{bmatrix}\n",
    "x_1 \\\\ x_2 \\\\ x_3\n",
    "\\end{bmatrix}\n",
    "$$\n",
    "\n",
    "$$\n",
    "\\hat{y} = Wx\n",
    "$$"
   ]
  },
  {
   "cell_type": "markdown",
   "id": "d293e909-cc43-45a6-b830-333f32970b3a",
   "metadata": {},
   "source": [
    "### 부분(분할)행렬(submarix)\n",
    "행렬과 행렬을 곱할 때, **행렬의 일부인 부분행렬**을 이용하여 계산할 수 있다.\n",
    "- 행렬을 **행벡터 or 열벡터인 부분행렬**으로 나눠서 계산\n",
    "- $N$차원 벡터는 $N\\times1$차원의 행렬로 나타낼 수 있기 때문에 행렬의 부분행렬이라고 하는 것\n",
    "\n",
    "- 행렬 $A$와 행렬$B$를 세 가지 방법으로 부분행렬으로 나눠서 내적할 수 있다.\n",
    "\n",
    "$$\n",
    "a_{ij}, A \\in \\mathbf{R}^{N \\times L}\n",
    "$$\n",
    "\n",
    "$$\n",
    "b_{jk}, B \\in \\mathbf{R}^{L \\times M}\n",
    "$$"
   ]
  },
  {
   "cell_type": "markdown",
   "id": "cec9583e-8dd1-4314-9c7e-6adaf62054fa",
   "metadata": {},
   "source": [
    "#### 1. 앞의 행렬을 행벡터로 나눠서 계산하기\n",
    "\n",
    "$$\n",
    "a_{i}^T = \\begin{bmatrix} a_{i1} & a_{i2} & \\ldots & a_{ij} \\end{bmatrix}\n",
    "$$\n",
    "\n",
    "$$\n",
    "AB = \n",
    "\\begin{bmatrix}\n",
    "\\boxed{\\begin{matrix} \\phantom{} & a_1^T & \\phantom{} \\end{matrix}} \\\\ \n",
    "\\boxed{\\begin{matrix} \\phantom{} & a_2^T & \\phantom{} \\end{matrix}} \\\\ \n",
    "\\begin{matrix} \\phantom{} \\vdots \\phantom{} \\end{matrix} \\\\ \n",
    "\\boxed{\\begin{matrix} \\phantom{} & a_N^T & \\phantom{} \\end{matrix}} \\\\ \n",
    "\\end{bmatrix}\n",
    "B\n",
    "=\n",
    "\\begin{bmatrix}\n",
    "\\boxed{\\begin{matrix} \\phantom{} & a_1^TB & \\phantom{} \\end{matrix}} \\\\ \n",
    "\\boxed{\\begin{matrix} \\phantom{} & a_2^TB & \\phantom{} \\end{matrix}} \\\\ \n",
    "\\begin{matrix} \\phantom{} \\vdots \\phantom{} \\end{matrix} \\\\ \n",
    "\\boxed{\\begin{matrix} \\phantom{} & a_N^TB & \\phantom{} \\end{matrix}} \\\\ \n",
    "\\end{bmatrix}\n",
    "$$"
   ]
  },
  {
   "cell_type": "markdown",
   "id": "a3c18e87-c640-4ff5-845d-ad5b14b67e00",
   "metadata": {},
   "source": [
    "#### 2. 뒤에 곱해지는 행렬을 열벡터로 나누어 계산하기\n",
    "\n",
    "$$\n",
    "b_k = \\begin{bmatrix} b_{11} \\\\ b_{22} \\\\ \\vdots \\\\ b_{jk} \\end{bmatrix}\n",
    "$$\n",
    "\n",
    "$$\n",
    "AB \n",
    "= \n",
    "A\n",
    "\\begin{bmatrix}\n",
    "\\boxed{\\begin{matrix} \\phantom{\\mathstrut} \\\\ b_1 \\\\ \\phantom{\\mathstrut} \\end{matrix}} \\!\\!\\!\\! & \n",
    "\\boxed{\\begin{matrix} \\phantom{\\mathstrut} \\\\ b_2 \\\\ \\phantom{\\mathstrut} \\end{matrix}} \\!\\!\\!\\! & \n",
    "\\ldots &\n",
    "\\boxed{\\begin{matrix} \\phantom{\\mathstrut} \\\\ b_M \\\\ \\phantom{\\mathstrut} \\end{matrix}} \\!\\!\\!\\! & \n",
    "\\end{bmatrix}\n",
    "=\n",
    "\\begin{bmatrix}\n",
    "\\boxed{\\begin{matrix} \\phantom{\\mathstrut} \\\\ Ab_1 \\\\ \\phantom{\\mathstrut} \\end{matrix}} \\!\\!\\!\\! & \n",
    "\\boxed{\\begin{matrix} \\phantom{\\mathstrut} \\\\ Ab_2 \\\\ \\phantom{\\mathstrut} \\end{matrix}} \\!\\!\\!\\! & \n",
    "\\ldots &\n",
    "\\boxed{\\begin{matrix} \\phantom{\\mathstrut} \\\\ Ab_M \\\\ \\phantom{\\mathstrut} \\end{matrix}} \\!\\!\\!\\! & \n",
    "\\end{bmatrix}\n",
    "$$"
   ]
  },
  {
   "cell_type": "markdown",
   "id": "f3cb48cc-72a5-40ed-9567-dcc9417d88de",
   "metadata": {},
   "source": [
    "#### 3. 앞에 곱해지는 행렬을 열벡터로, 뒤에 곱해지는 행렬을 행벡터로 나누어 스칼라처럼 계산하기\n",
    "\n",
    "$$\n",
    "a_j = \\begin{bmatrix} a_{11} \\\\ a_{22} \\\\ \\vdots \\\\ a_{ij} \\end{bmatrix}, b_j^T = \\begin{bmatrix} b_{j1} & b_{j2} & \\ldots & b_{jk} \\end{bmatrix}\n",
    "$$\n",
    "\n",
    "$$\n",
    "AB\n",
    "=\n",
    "\\begin{bmatrix}\n",
    "\\boxed{\\begin{matrix} \\phantom{\\mathstrut} \\\\ a_1 \\\\ \\phantom{\\mathstrut} \\end{matrix}} \\!\\!\\!\\! & \n",
    "\\boxed{\\begin{matrix} \\phantom{\\mathstrut} \\\\ a_2 \\\\ \\phantom{\\mathstrut} \\end{matrix}} \\!\\!\\!\\! & \n",
    "\\ldots &\n",
    "\\boxed{\\begin{matrix} \\phantom{\\mathstrut} \\\\ a_L \\\\ \\phantom{\\mathstrut} \\end{matrix}} \\!\\!\\!\\! & \n",
    "\\end{bmatrix}\n",
    "\\begin{bmatrix}\n",
    "\\boxed{\\begin{matrix} \\phantom{} & b_1^T & \\phantom{} \\end{matrix}} \\\\ \n",
    "\\boxed{\\begin{matrix} \\phantom{} & b_2^T & \\phantom{} \\end{matrix}} \\\\ \n",
    "\\begin{matrix} \\phantom{} \\vdots \\phantom{} \\end{matrix} \\\\ \n",
    "\\boxed{\\begin{matrix} \\phantom{} & b_L^T & \\phantom{} \\end{matrix}} \\\\ \n",
    "\\end{bmatrix}\n",
    "=\n",
    "\\boxed{\\begin{matrix} \\phantom{\\mathstrut} \\\\ a_1 \\\\ \\phantom{\\mathstrut} \\end{matrix}}\n",
    "\\boxed{\\begin{matrix} \\phantom{} & b_1^T & \\phantom{} \\end{matrix}}\n",
    "+\n",
    "\\boxed{\\begin{matrix} \\phantom{\\mathstrut} \\\\ a_2 \\\\ \\phantom{\\mathstrut} \\end{matrix}}\n",
    "\\boxed{\\begin{matrix} \\phantom{} & b_2^T & \\phantom{} \\end{matrix}}\n",
    "+\n",
    "\\ldots\n",
    "+\n",
    "\\boxed{\\begin{matrix} \\phantom{\\mathstrut} \\\\ a_L \\\\ \\phantom{\\mathstrut} \\end{matrix}}\n",
    "\\boxed{\\begin{matrix} \\phantom{} & b_L^T & \\phantom{} \\end{matrix}}\n",
    "$$"
   ]
  },
  {
   "cell_type": "markdown",
   "id": "fea5c2d3-1ea6-4ae2-9b1c-15698e239d0e",
   "metadata": {},
   "source": [
    "### 곱셈의 연결"
   ]
  },
  {
   "cell_type": "markdown",
   "id": "fb8546fa-9159-411e-9cf5-03b2efd9decc",
   "metadata": {},
   "source": [
    "- 연속된 행렬의 곱셈은 계산 순서를 임의로 순서로 진행해도 상관없다.\n",
    "    - 대신 곱하는 행렬의 위치가 변하면 안된다.\n",
    " \n",
    "$$\n",
    "ABC = (AB)C = A(BC)\n",
    "$$\n",
    "\n",
    "$$\n",
    "ABCD=((AB)C)D=(AB)(CD)=A(BCD)=A(BC)D\n",
    "$$"
   ]
  },
  {
   "cell_type": "markdown",
   "id": "eb68098a-c580-4a11-b04f-9727c2d8bd26",
   "metadata": {},
   "source": [
    "### 항등행렬의 곱셈"
   ]
  },
  {
   "cell_type": "markdown",
   "id": "e4c8d477-d7e9-44ad-8028-d65fe59035bf",
   "metadata": {},
   "source": [
    "- 항등행렬($I$) : 대각행렬 중에서도 모든 (주)대각 요소가 1인 정방행렬\n",
    "    - 대각행렬 : 모든 비대각 요소가 0인 행렬\n",
    " \n",
    "- 어떤 행렬이든 항등행렬을 곱하게 되면 그 행렬의 값이 변하지 않게 된다.\n",
    "- 항등행렬은 행렬의 내적에 대한 항등원이다.\n",
    "    - 항등원 : $A$와 곱해졌을 때 그 값으로 $A$가 그대로 나오게 하는 것 \n",
    "\n",
    " $$\n",
    "AI = IA = A\n",
    " $$"
   ]
  },
  {
   "cell_type": "code",
   "execution_count": 56,
   "id": "9083defc-b2fc-4e3d-a956-fec348685954",
   "metadata": {},
   "outputs": [
    {
     "data": {
      "text/plain": [
       "(array([[1, 2, 3],\n",
       "        [4, 5, 6],\n",
       "        [7, 8, 9]]),\n",
       " array([[1., 0., 0.],\n",
       "        [0., 1., 0.],\n",
       "        [0., 0., 1.]]))"
      ]
     },
     "execution_count": 56,
     "metadata": {},
     "output_type": "execute_result"
    }
   ],
   "source": [
    "import numpy as np\n",
    "\n",
    "a = np.array([[1, 2, 3], [4, 5, 6], [7, 8, 9]])\n",
    "i = np.identity(3) # np.eye(3)으로도 3X3 차원의 항등행렬 생성 가능\n",
    "a, i"
   ]
  },
  {
   "cell_type": "code",
   "execution_count": 57,
   "id": "3a1234ec-5605-4e19-9392-a5635c739c79",
   "metadata": {},
   "outputs": [
    {
     "data": {
      "text/plain": [
       "(array([[1., 2., 3.],\n",
       "        [4., 5., 6.],\n",
       "        [7., 8., 9.]]),\n",
       " array([[1., 2., 3.],\n",
       "        [4., 5., 6.],\n",
       "        [7., 8., 9.]]),\n",
       " array([[1, 2, 3],\n",
       "        [4, 5, 6],\n",
       "        [7, 8, 9]]))"
      ]
     },
     "execution_count": 57,
     "metadata": {},
     "output_type": "execute_result"
    }
   ],
   "source": [
    "# 넘파이에서 행렬A와 항등행렬의 곱셈 확인\n",
    "a @ i, i @ a, a"
   ]
  },
  {
   "cell_type": "markdown",
   "id": "9b5fcc4b-5a3b-4831-8158-06d93b143344",
   "metadata": {},
   "source": [
    "## 8. 행렬의 교환법칙과 분배법칙"
   ]
  },
  {
   "cell_type": "markdown",
   "id": "d02490f4-5be9-4c9b-b8ed-841ef2fb4653",
   "metadata": {},
   "source": [
    "- 일반적인 스칼라는 덧셈, 뺄셈, 곱셈, 나눗셈에 대한 교환법칙이 성립한다.\n",
    "\n",
    "$$\n",
    "a + b = b + a\n",
    "$$\n",
    "\n",
    "$$\n",
    "ab = ba\n",
    "$$"
   ]
  },
  {
   "cell_type": "markdown",
   "id": "af817b87-b67d-49a8-9666-388db82ee5a2",
   "metadata": {},
   "source": [
    "- 행렬의 덧셈, 뺄셈은 같은 차원의 행렬끼리 가능하다.\n",
    "- 행렬의 곱셈은 앞의 행렬의 열의 수와 뒤의 행렬의 행의 수가 일치할 때 내적할 수 있다.\n",
    "1. 행렬의 덧셈은 교환법칙이 성립한다.\n",
    "2. 행렬의 뺄셈은 교환법칙이 성립하지 않는다.\n",
    "\n",
    "$$\n",
    "A = \\begin{bmatrix} 10&2&5\\\\3&1&9\\\\4&8&11 \\end{bmatrix}, B = \\begin{bmatrix} 1&2&3\\\\4&5&6\\\\7&8&9 \\end{bmatrix}\n",
    "$$\n",
    "\n",
    "$$\n",
    "A + B = B + A = \\begin{bmatrix} 11&4&8\\\\7&6&15\\\\11&16&20 \\end{bmatrix}\n",
    "$$\n",
    "\n",
    "$$\n",
    "A - B = \\begin{bmatrix} 9&0&2\\\\-1&-4&5\\\\-3&0&2 \\end{bmatrix}\n",
    "$$\n",
    "\n",
    "$$\n",
    "B - A = \\begin{bmatrix} -9&0&-2\\\\1&4&-5\\\\3&0&-2 \\end{bmatrix}\n",
    "$$\n",
    "\n",
    "3. 행렬의 곱셈은 교환법칙이 성립하지 않는다.\n",
    "\n",
    "$$\n",
    "AB \\neq BA\n",
    "$$\n",
    "\n",
    "4. 행렬간의 나눗셈은 정의되지 않고, 역행렬이 존재할 때 역행렬로 나눗셈과 유사한 연산을 진행할 수 있다."
   ]
  },
  {
   "cell_type": "markdown",
   "id": "35e19abe-7876-41a9-99f6-389aaab055c3",
   "metadata": {},
   "source": [
    "- 일반적인 스칼라는 덧셈, 뺄셈에 대한 분배법칙이 성립한다.\n",
    "$$\n",
    "a(b + c) = ab + ac\n",
    "$$\n",
    "\n",
    "$$\n",
    "(a + b)c = ac + bc\n",
    "$$\n",
    "\n",
    "$$\n",
    "(a - b)c = ac - bc\n",
    "$$"
   ]
  },
  {
   "cell_type": "markdown",
   "id": "e5825e23-f34a-44fa-a625-6a3ac5a10be3",
   "metadata": {},
   "source": [
    "- 행렬은 덧셈, 뺄셈에 대한 분배법칙이 성립한다.\n",
    "\n",
    "$$\n",
    "A(B + C) = AB + AC\n",
    "$$\n",
    "\n",
    "$$\n",
    "(A + B)C = AC + BC\n",
    "$$"
   ]
  },
  {
   "cell_type": "markdown",
   "id": "8264ab92-0884-4027-85bb-b17e9974bd91",
   "metadata": {},
   "source": [
    "- 행렬의 전치연산은 덧셈, 뺄셈에 대한 분배법칙이 성립\n",
    "\n",
    "$$\n",
    "(A + B)^T = A^t + B^T\n",
    "$$\n",
    "\n",
    "- 행렬 간의 곱셈의 전치연산의 경우 곱셈의 순서를 바꿔서 분배된다.\n",
    "\n",
    "$$\n",
    "(AB)^T = B^TA^T\n",
    "$$\n",
    "\n",
    "$$\n",
    "A\\in\\mathbf{R}^{N \\times L}, B\\in\\mathbf{R}^{L \\times M} \\rightarrow AB \\in \\mathbf{R}^{N \\times M} \\rightarrow (AB)^T \\in \\mathbf{R}^{M \\times N}\n",
    "$$\n",
    "\n",
    "$$\n",
    "B^T\\in\\mathbf{R}^{M \\times L}, A^T\\in\\mathbf{R}^{L \\times N} \\rightarrow B^TA^T \\in \\mathbf{R}^{M \\times N}\n",
    "$$\n",
    "\n",
    "$$\n",
    "(ABC)^T = C^TB^TA^T\n",
    "$$"
   ]
  },
  {
   "cell_type": "code",
   "execution_count": 32,
   "id": "34c4f99f-f567-4bec-936e-08000760b579",
   "metadata": {},
   "outputs": [
    {
     "data": {
      "text/plain": [
       "array([[1, 2],\n",
       "       [3, 4]])"
      ]
     },
     "execution_count": 32,
     "metadata": {},
     "output_type": "execute_result"
    }
   ],
   "source": [
    "# 넘파이로 행렬간의 교환법칙과 분배법칙 확인\n",
    "import numpy as np\n",
    "\n",
    "a = np.array([[1, 2], [3, 4]])\n",
    "b = np.array([[5, 6], [7, 8]])  \n",
    "c = np.array([[9, 8], [7, 6]])\n",
    "a"
   ]
  },
  {
   "cell_type": "code",
   "execution_count": 41,
   "id": "89993527-7714-4399-b98e-58904a93fa04",
   "metadata": {},
   "outputs": [
    {
     "data": {
      "text/plain": [
       "(array([[19, 22],\n",
       "        [43, 50]]),\n",
       " array([[23, 34],\n",
       "        [31, 46]]))"
      ]
     },
     "execution_count": 41,
     "metadata": {},
     "output_type": "execute_result"
    }
   ],
   "source": [
    "# 행렬간의 곱셈에 대한교환법칙 성립하지 않다는 것을 확인\n",
    "a @ b, b @ a"
   ]
  },
  {
   "cell_type": "code",
   "execution_count": 42,
   "id": "0bd65ee0-8b8a-4daa-ac81-f9fe98eb0ea8",
   "metadata": {},
   "outputs": [
    {
     "data": {
      "text/plain": [
       "(array([[23, 20],\n",
       "        [55, 48]]),\n",
       " array([[33, 50],\n",
       "        [25, 38]]))"
      ]
     },
     "execution_count": 42,
     "metadata": {},
     "output_type": "execute_result"
    }
   ],
   "source": [
    "# 행렬간의 곱셈에 대한교환법칙 성립하지 않다는 것을 확인\n",
    "a @ c, c @ a"
   ]
  },
  {
   "cell_type": "code",
   "execution_count": 43,
   "id": "716e2050-6f20-4680-afaa-c1c5c2f2c656",
   "metadata": {},
   "outputs": [
    {
     "data": {
      "text/plain": [
       "(array([[ 87,  76],\n",
       "        [119, 104]]),\n",
       " array([[101, 118],\n",
       "        [ 77,  90]]))"
      ]
     },
     "execution_count": 43,
     "metadata": {},
     "output_type": "execute_result"
    }
   ],
   "source": [
    "# 행렬간의 곱셈에 대한교환법칙 성립하지 않다는 것을 확인\n",
    "b @ c, c @ b"
   ]
  },
  {
   "cell_type": "code",
   "execution_count": 44,
   "id": "150bf66b-476b-486d-b381-5371e5102ec3",
   "metadata": {},
   "outputs": [
    {
     "data": {
      "text/plain": [
       "(array([[42, 42],\n",
       "        [98, 98]]),\n",
       " array([[42, 42],\n",
       "        [98, 98]]))"
      ]
     },
     "execution_count": 44,
     "metadata": {},
     "output_type": "execute_result"
    }
   ],
   "source": [
    "# 행렬간 덧셈에 대한 분배법칙 성립 확인\n",
    "a @ (b + c), a @ b + a @ c"
   ]
  },
  {
   "cell_type": "code",
   "execution_count": 45,
   "id": "8451c761-eeb6-4819-a386-46455bc831ef",
   "metadata": {},
   "outputs": [
    {
     "data": {
      "text/plain": [
       "(array([[ -4,   2],\n",
       "        [-12,   2]]),\n",
       " array([[ -4,   2],\n",
       "        [-12,   2]]))"
      ]
     },
     "execution_count": 45,
     "metadata": {},
     "output_type": "execute_result"
    }
   ],
   "source": [
    "# 행렬간 뺄셈에 대한 분배법칙 성립 확인\n",
    "a @ (b - c), a @ b - a @ c"
   ]
  },
  {
   "cell_type": "code",
   "execution_count": 46,
   "id": "9c7aff77-87ea-4076-a4f4-5a78404e7654",
   "metadata": {},
   "outputs": [
    {
     "data": {
      "text/plain": [
       "(array([[19, 43],\n",
       "        [22, 50]]),\n",
       " array([[19, 43],\n",
       "        [22, 50]]))"
      ]
     },
     "execution_count": 46,
     "metadata": {},
     "output_type": "execute_result"
    }
   ],
   "source": [
    "# 행렬의 곱셈에 대한 전치연산의 경우 곱셈의 순서가 바뀌어 분배되는 것을 확인\n",
    "\n",
    "(a @ b).T, b.T @ a.T"
   ]
  },
  {
   "cell_type": "code",
   "execution_count": 47,
   "id": "85a2c5a2-c442-418b-8c6a-f04670402568",
   "metadata": {},
   "outputs": [
    {
     "data": {
      "text/plain": [
       "(array([[325, 737],\n",
       "        [284, 644]]),\n",
       " array([[325, 737],\n",
       "        [284, 644]]))"
      ]
     },
     "execution_count": 47,
     "metadata": {},
     "output_type": "execute_result"
    }
   ],
   "source": [
    "# 행렬의 곱셈에 대한 전치연산의 경우 곱셈의 순서가 바뀌어 분배되는 것을 확인\n",
    "\n",
    "(a @ b @ c).T, c.T @ b.T @ a.T"
   ]
  },
  {
   "cell_type": "markdown",
   "id": "d5623b33-130c-4ef2-94dd-690b908b89a3",
   "metadata": {},
   "source": [
    "## 9. 행렬과 벡터의 곱셈"
   ]
  },
  {
   "cell_type": "markdown",
   "id": "5b33ccc0-3805-41cf-b06f-9a667b32474a",
   "metadata": {},
   "source": [
    "- 행렬 $M$과 벡터 $v$의 곱셈의 표기\n",
    "\n",
    "$$\n",
    "Mv\n",
    "$$\n",
    "\n",
    "- 행렬과 벡터의 크기를 직사각형으로 표시하면 다음과 같이 생각할 수 있다.\n",
    "\n",
    "$$\n",
    "\\boxed{\\begin{matrix} \n",
    "\\phantom{} & \\phantom{} & \\phantom{} & \\phantom{} & \\phantom{} \\\\ \n",
    "& & M & &\\\\ \n",
    "\\phantom{} & \\phantom{} & \\phantom{} & \\phantom{} & \\phantom{} \\\\ \n",
    "\\end{matrix}} \\,\n",
    "\\boxed{\\begin{matrix} \\phantom{\\LARGE\\mathstrut} \\\\ v \\\\ \\phantom{\\LARGE\\mathstrut} \\end{matrix}}\n",
    "=\n",
    "\\boxed{\\begin{matrix} \n",
    "\\phantom{} \\\\ \n",
    "Mv \\\\ \n",
    "\\phantom{}  \n",
    "\\end{matrix}}\n",
    "$$\n",
    "\n",
    "- 행렬과 벡터의 곱셈 결과 : **열벡터**\n",
    "    - $M$차원 (열)벡터는 행렬로 표현하면 $M\\times1$차원의 행렬로 나타낼 수 있다. \n",
    "\n",
    "$$\n",
    "M \\in \\mathbf{R}^{N \\times M}, v \\in \\mathbf{R}^{M\\times 1} \\rightarrow Mv \\in \\mathbf{R}^{N\\times 1}\n",
    "$$"
   ]
  },
  {
   "cell_type": "markdown",
   "id": "0030ab3d-2c15-44ac-b85a-61c5c24c8847",
   "metadata": {},
   "source": [
    "### 1. 열벡터의 선형조합"
   ]
  },
  {
   "cell_type": "markdown",
   "id": "c326ea19-bb21-4cd6-9516-2a9343df40e5",
   "metadata": {},
   "source": [
    "행렬 $X$와 벡터 $w$의 곱\n",
    "- 행렬 $X$를 부분항렬을 이용해 열 벡터로 나누어 내적할 경우\n",
    "    - 행렬 $X$를 열 벡터($x_1,x_2,\\ldots,x_M$)를 벡터 $w$의 각 성분($w_1,w_2,\\ldots,w_M$)으로 선형조합을 한 결과 벡터와 같다.\n",
    "\n",
    "$$\n",
    "x_i = \\begin{bmatrix}x_{1i}\\\\x_{2i}\\\\\\vdots\\\\x_{Ni}\\end{bmatrix} \\rightarrow x_1 = \\begin{bmatrix}x_{11}\\\\x_{21}\\\\\\vdots\\\\x_{N1}\\end{bmatrix}\n",
    "$$\n",
    " \n",
    "$$\n",
    "Xw=\n",
    "\\begin{bmatrix}\n",
    "x_1 & x_2 & \\cdots & x_M\n",
    "\\end{bmatrix}\n",
    "\\begin{bmatrix}\n",
    "w_1 \\\\ w_2 \\\\ \\vdots \\\\ w_M\n",
    "\\end{bmatrix}\n",
    "=\n",
    "\\boxed{w_1 x_1 + w_2 x_2 + \\cdots + w_M x_M}\n",
    "= \n",
    "w_1 \\begin{bmatrix}x_{11}\\\\x_{21}\\\\\\vdots\\\\x_{N1}\\end{bmatrix}\n",
    "+\n",
    "w_2 \\begin{bmatrix}x_{12}\\\\x_{22}\\\\\\vdots\\\\x_{N2}\\end{bmatrix}\n",
    "+\n",
    "\\ldots\n",
    "+\n",
    "w_M \\begin{bmatrix}x_{1M}\\\\x_{2M}\\\\\\vdots\\\\x_{NM}\\end{bmatrix}\n",
    "$$\n",
    "\n",
    "$$\n",
    "Xw=\n",
    "\\begin{bmatrix}\n",
    "\\boxed{\\begin{matrix} \\phantom{\\LARGE\\mathstrut} \\\\ x_{1_{\\phantom{1}}} \\\\ \\phantom{\\LARGE\\mathstrut} \\end{matrix}} &\n",
    "\\boxed{\\begin{matrix} \\phantom{\\LARGE\\mathstrut} \\\\ x_{2_{\\phantom{1}}} \\\\ \\phantom{\\LARGE\\mathstrut} \\end{matrix}} &\n",
    "\\cdots & \n",
    "\\boxed{\\begin{matrix} \\phantom{\\LARGE\\mathstrut} \\\\ x_M \\\\ \\phantom{\\LARGE\\mathstrut} \\end{matrix}} \n",
    "\\end{bmatrix} \n",
    "\\begin{bmatrix}\n",
    "w_1 \\\\ w_2 \\\\ \\vdots \\\\ w_M\n",
    "\\end{bmatrix}\n",
    "=\n",
    "\\begin{matrix}\n",
    "w_1\\,\\boxed{\\begin{matrix} \\phantom{\\LARGE\\mathstrut} \\\\ x_{1_{\\phantom{1}}} \\\\ \\phantom{\\LARGE\\mathstrut} \\end{matrix}} & + &\n",
    "w_2\\,\\boxed{\\begin{matrix} \\phantom{\\LARGE\\mathstrut} \\\\ x_{2_{\\phantom{1}}} \\\\ \\phantom{\\LARGE\\mathstrut} \\end{matrix}}& + & \n",
    "\\cdots \\!\\!\\!\\!& + & \n",
    "w_M\\,\\boxed{\\begin{matrix} \\phantom{\\LARGE\\mathstrut} \\\\ x_M \\\\ \\phantom{\\LARGE\\mathstrut} \\end{matrix}}\\end{matrix}\n",
    "$$"
   ]
  },
  {
   "cell_type": "code",
   "execution_count": 58,
   "id": "7fb0e03d-69db-46ca-8c79-f4fa69417059",
   "metadata": {},
   "outputs": [],
   "source": [
    "# 넘파이에서 확인\n",
    "\n",
    "x = np.array([[1, 2, 3], [4, 5, 6]])\n",
    "w = np.array([[2], [3], [4]])"
   ]
  },
  {
   "cell_type": "code",
   "execution_count": 60,
   "id": "7fa8e93f-8bae-4f99-9db4-d9ec9b5caee9",
   "metadata": {},
   "outputs": [
    {
     "data": {
      "text/plain": [
       "array([[20],\n",
       "       [47]])"
      ]
     },
     "execution_count": 60,
     "metadata": {},
     "output_type": "execute_result"
    }
   ],
   "source": [
    "x @ w"
   ]
  },
  {
   "cell_type": "code",
   "execution_count": 62,
   "id": "378d033f-3f74-4641-b6bb-141da017dc25",
   "metadata": {},
   "outputs": [
    {
     "data": {
      "text/plain": [
       "array([[20],\n",
       "       [47]])"
      ]
     },
     "execution_count": 62,
     "metadata": {},
     "output_type": "execute_result"
    }
   ],
   "source": [
    "# 2X3 차원의 행렬 x를 나타내는 넘파이 2차원 배열에 대해 슬라이싱으로 열벡터 x1, x2, x3 접근 가능\n",
    "x1 = x[:, 0:1]\n",
    "x2 = x[:, 1:2]\n",
    "x3 = x[:, 2:3]\n",
    "\n",
    "w[0] * x1 + w[1] * x2 + w[2] * x3"
   ]
  },
  {
   "cell_type": "markdown",
   "id": "3dfa7b8c-85ae-49f7-8f92-7aecd0cca3e4",
   "metadata": {},
   "source": [
    "### 2. 여러 개의 벡터에 대한 가중합 동시 계산"
   ]
  },
  {
   "cell_type": "markdown",
   "id": "c8ea6ce0-2e07-43c9-9eeb-68512f957325",
   "metadata": {},
   "source": [
    "- 특성(특징) 벡터 : 머신러닝에 사용해야 할 입력 데이터\n",
    "    - 측정된 여러 개의 값을 모아서 특성 벡터 1개를 만들면, 1개의 데이터를 머신러닝 모형에 대입할 수 있게 된다.\n",
    "\n",
    "- 일반적으로 특성 백터를 하나만 이용하지 않고, 특성 벡터를 여러 개 모아서 행렬로 만들어서 한번에 관리한다.\n",
    "\n",
    "- 특성 벡터 $x$를 여러 개 모아서 만든 특성 행렬 $X$를 아래와 같이 표현\n",
    "$$\n",
    "x=\\begin{bmatrix}x_1 \\\\ x_2 \\\\ \\vdots \\\\ x_N\\end{bmatrix}\n",
    "$$\n",
    "\n",
    "$$\n",
    "X=\\begin{bmatrix} x_{1,1} & x_{1,2} & \\cdots & x_{1,N} \\\\ x_{2,1} & x_{2,2} & \\cdots & x_{2,N} \\\\ \\vdots & \\vdots & \\ddots & \\vdots \\\\ x_{M,1} & x_{M,2} & \\cdots & x_{M,N}  \\end{bmatrix}=\\begin{bmatrix} x_1^T \\\\ x_2^T \\\\ \\vdots\\\\x_M^T\\end{bmatrix}\n",
    "$$\n",
    "\n",
    "- 특성 행렬 $X$에 가중치 배열$w$를 내적\n",
    "    - 내적의 결과 : 여러 개의 데이터에 대한 선형회귀 모형이 만들어진다.\n",
    "\n",
    "$$\n",
    "w=\\begin{bmatrix}w_1 \\\\ w_2 \\\\ \\vdots \\\\ w_N\\end{bmatrix}\n",
    "$$  \n",
    "\n",
    "$$\n",
    "Xw = \\begin{bmatrix} x_1^T \\\\ x_2^T \\\\ \\vdots\\\\x_M^T\\end{bmatrix}\\begin{bmatrix}w_1 \\\\ w_2 \\\\ \\vdots \\\\ w_N\\end{bmatrix} = x_1^Tw + x_2^Tw + \\ldots + x_w^Tw = \\begin{bmatrix}\\hat{y_1} \\\\ \\hat{y_2} \\\\ \\vdots \\\\ \\hat{y_N}\\end{bmatrix} = \\hat{y}\n",
    "$$\n",
    "\n",
    "- 선형회귀 모형의 결과물인 $\\hat{y}$를 좀 더 자세히 나타내보면 아래와 같이 정리 된다.\n",
    "\n",
    "$$\n",
    "\\hat{y}=Xw=\\begin{bmatrix} x_{1,1} & x_{1,2} & \\cdots & x_{1,N} \\\\ x_{2,1} & x_{2,2} & \\cdots & x_{2,N} \\\\ \\vdots & \\vdots & \\ddots & \\vdots \\\\ x_{M,1} & x_{M,2} & \\cdots & x_{M,N}  \\end{bmatrix}\\begin{bmatrix} w_1 \\\\ w_2 \\\\ \\vdots \\\\ w_N \\end{bmatrix}=\\begin{bmatrix} w_1x_{1,1} + w_2x_{1,2} + \\cdots + w_Nx_{1,N} \\\\ w_1x_{2,1} + w_2x_{2,2} + \\cdots + w_Nx_{2,N} \\\\ \\vdots  \\\\ w_1x_{M,1} + w_2x_{M,2} + \\cdots + w_Nx_{M,N}  \\end{bmatrix}=\\begin{bmatrix} \\hat{y_1} \\\\ \\hat{y_2} \\\\ \\vdots \\\\ \\hat{y_N}\\end{bmatrix}\n",
    "$$"
   ]
  },
  {
   "cell_type": "markdown",
   "id": "b0ea27ef-dfa3-49c0-8b2b-6fde4b327739",
   "metadata": {},
   "source": [
    "### 3. 오차(Error)"
   ]
  },
  {
   "cell_type": "markdown",
   "id": "29f58600-2ea2-4d18-859f-bfa40626f084",
   "metadata": {},
   "source": [
    "- $i$번째 실젯값(target) $y_i$과 선형회귀 모형으로 구한 $i$ 번째 예측치 $\\hat{y_i}$의 차이\n",
    "- 오차는 넓은 의미의 잔차(residual)라고도 한다.\n",
    "- 오차는 $e_i$로 표기하고 아래 수식으로 구할 수 있다.\n",
    "\n",
    "$$\n",
    "e_i = y_i - \\hat{y_i} = y_i - w^Tx_i\n",
    "$$\n",
    "\n",
    "- 오차 벡터 $e$는 $y -Xw$로 표기할 수 있다. \n",
    "\n",
    "$$\n",
    "e = \\begin{bmatrix}e_1 \\\\ e_2 \\\\ \\vdots \\\\ e_N\\end{bmatrix} = \\begin{bmatrix}y_1 \\\\ y_2 \\\\ \\vdots \\\\ y_N\\end{bmatrix} - \\begin{bmatrix}x_1^Tw \\\\ x_2^Tw \\\\ \\vdots \\\\ x_N^Tw\\end{bmatrix} = y -Xw\n",
    "$$\n",
    "\n",
    "- 선형회귀 모형의 목표는 예측값 $\\hat{y}$ 과 실제값 $y$간의 오차를 최소화하는 가중치 $w$를 찾는 것이다."
   ]
  },
  {
   "cell_type": "markdown",
   "id": "e831f6ab-db90-4411-a547-0d02183d2dc5",
   "metadata": {},
   "source": [
    "### 4. 오차 제곱합"
   ]
  },
  {
   "cell_type": "markdown",
   "id": "091437fb-648f-42f7-b470-04b2b4dc02f5",
   "metadata": {},
   "source": [
    "- 위에서 구한 오차벡터 $e$는 각 데이터(특징 벡터 $x_i$)에 대한 오류를 의미\n",
    "    - 따라서 오차벡터 $e$로는 일반화된 모델의 성능을 측정했다고 이야기 하기 힘들다.\n",
    "- 아래 오차벡터 $e$의 각 원소들은 $0$이 아니지만, 오차벡터 $e$의 각 원소들의 합은 $0$이 되어 모델 자체의 성능은 오차가 없다고 판단할 수 있다.\n",
    "    -  오차가 분명히 존재하지만 오차의 평균 $\\bar{e}=0$이 된다.\n",
    "    - 즉, 단순히 오차의 합으로는 모델의 성능을 일반화해서 설명할 수 없다.\n",
    "\n",
    "$$\n",
    "e=\\begin{bmatrix} 10 \\\\-10 \\\\ 5 \\\\ -5 \\end{bmatrix}\n",
    "$$\n",
    "\n",
    "$$\n",
    "\\sum_{i=1}^{4}e_i=e_1+e_2+e_3+e_4=10-10+5-5=0\n",
    "$$\n",
    "\n",
    "- 위와 같은 상황을 방지하기 위해 오차의 음수를 제거해야 한다.\n",
    "- 음수를 제거하는 방법은 크게 두 가지로 절대값과 제곱이 있다.\n",
    "    - 두 방법 모두 사용될 수 있지만, 제곱을 사용하는 방법이 더 많이 사용된다.\n",
    "\n",
    "* **오차 제곱합**은 **각 오차를 제곱해서 더한 값**이다.\n",
    "\n",
    "$$\n",
    "\\sum_{i=1}^N e_i^2 = \\sum_{i=1}^N (y_i - w^Tx_i)^2 = e^Te = (y-Xw)^T(y-Xw)\n",
    "$$\n",
    "\n",
    "$$\n",
    "e^Te = (y-Xw)^T(y-Xw) \n",
    "= y^Ty - y^TXw -w^TX^Ty + w^TX^TXw \n",
    "$$"
   ]
  },
  {
   "cell_type": "markdown",
   "id": "57b22451-f18c-4a6d-a152-6fe779d3009c",
   "metadata": {},
   "source": [
    "## 10. 이차형식(Quardratic Form)"
   ]
  },
  {
   "cell_type": "markdown",
   "id": "7ee58c46-8ffe-4692-b1ed-ec3b1715a2c9",
   "metadata": {},
   "source": [
    "- 행렬 $X$에 대해 $X^TX$는 항상 정방행렬이 된다.\n",
    "    - 정방행렬 : 행의 개수와 열의개수가 같은 행렬\n",
    "$$\n",
    "X \\in \\mathbf{R}^{N \\times M}, X^T \\in \\mathbf{R}^{M \\times N} \\rightarrow X^TX \\in \\mathbf{R}^{N \\times N}\n",
    "$$\n",
    "\n",
    "* 행렬 $A$가 정방행렬이고 벡터 $x$가 있을 때 $x^TAx$를 **벡터의 이차형식**이라고 한다.\n",
    "    - **행벡터(열벡터의 전치연산)**$\\times$**정방행렬**$\\times$**열벡터**\n",
    "\n",
    "$$\n",
    "x^TAx\n",
    "$$\n",
    "\n",
    "> - 정방행렬 $A$, 벡터 $x$\n",
    "\n",
    "- 이차형식의 결과 : 스칼라값\n",
    "    - 모든 원소들의 곱의 합을 값으로 지닌다.\n",
    "\n",
    "$$\n",
    "x^TAx\n",
    "=\n",
    "\\begin{bmatrix} x_1&x_2&\\cdots&x_N \\end{bmatrix} \\begin{bmatrix} a_{1, 1}&a_{1, 2}&\\cdots&a_{1, N}\\\\ a_{2, 1}&a_{2, 2}&\\cdots&a_{2, N}\\\\ \\vdots&\\vdots&\\ddots&\\vdots\\ \\\\ a_{N, 1}&a_{N, 2}&\\cdots&a_{N, N}\\end{bmatrix} \\begin{bmatrix} x_1 \\\\x_2 \\\\ \\vdots \\\\ x_N \\end{bmatrix}\n",
    "=\n",
    "\\sum_{i=1}^N\\sum_{j=1}^Na_{i,j}x_ix_j\n",
    "$$"
   ]
  },
  {
   "cell_type": "code",
   "execution_count": 74,
   "id": "f9a144a6-4b23-4362-a37c-089de9684bab",
   "metadata": {},
   "outputs": [
    {
     "data": {
      "text/plain": [
       "array([[228]])"
      ]
     },
     "execution_count": 74,
     "metadata": {},
     "output_type": "execute_result"
    }
   ],
   "source": [
    "# 넘파이에서 벡터 x와 행렬 a의 이차형식 확인\n",
    "\n",
    "x = np.array([[1], [2], [3]])\n",
    "a = np.array([[1, 2, 3], [4, 5, 6], [7, 8, 9]])\n",
    "\n",
    "x.T @ a @ x"
   ]
  }
 ],
 "metadata": {
  "kernelspec": {
   "display_name": "Python 3 (ipykernel)",
   "language": "python",
   "name": "python3"
  },
  "language_info": {
   "codemirror_mode": {
    "name": "ipython",
    "version": 3
   },
   "file_extension": ".py",
   "mimetype": "text/x-python",
   "name": "python",
   "nbconvert_exporter": "python",
   "pygments_lexer": "ipython3",
   "version": "3.11.6"
  }
 },
 "nbformat": 4,
 "nbformat_minor": 5
}
