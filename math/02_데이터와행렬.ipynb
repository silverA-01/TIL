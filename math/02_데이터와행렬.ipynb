{
 "cells": [
  {
   "cell_type": "markdown",
   "id": "4301bfaf-24f5-455b-9844-8e6cb1faecea",
   "metadata": {},
   "source": [
    "# 데이터와 행렬"
   ]
  },
  {
   "cell_type": "markdown",
   "id": "40b02f8c-ae9b-46e4-be03-be84938f9b86",
   "metadata": {},
   "source": [
    "## 선형대수(linear algebra)"
   ]
  },
  {
   "cell_type": "markdown",
   "id": "5c38590c-75fc-43c0-b8c9-01733a143907",
   "metadata": {},
   "source": [
    "선형대수는 데이터 분석에 필요한 각종 계산을 돕는 학문\n",
    "- 데이터 분석을 할 때는 수많은 숫자로 이루어진 데이터를 다뤄야 함\n",
    "- 선형대수를 사용하면 대량의 데이터를 포함하는 복잡한 계산 과정을 간단한 수식으로 서술 가능\n",
    "- 데이터를 다루는 과정을 정확하고 간단하게 서술 가능"
   ]
  },
  {
   "cell_type": "markdown",
   "id": "46fbd5bb-5251-406f-9b26-e8f8144cf99a",
   "metadata": {},
   "source": [
    "## 데이터의 유형 있는 것"
   ]
  },
  {
   "cell_type": "markdown",
   "id": "4ecc6b1a-2964-437c-83d8-b4ae046ac0aa",
   "metadata": {},
   "source": [
    "선형대수에서 다루는 데이터는 개수나 형태에 따라 크게 네 가지로 나뉜다.\n",
    "- 스칼라(scalar) : 숫자 하나로 이루어진 데이터\n",
    "- 벡터(vector) : 여러 숫자로 이루어진 데이터 레코드(data record)\n",
    "- 행렬(matrix) : 벡터(데이터 레코드)가 여럿인 데이터 집합\n",
    "- 텐서(tensor) : 같은 크기의 행렬이 여러개 있는 것"
   ]
  },
  {
   "cell_type": "markdown",
   "id": "2d2f2f6e-4967-4bd6-bfb3-44671d8d10ef",
   "metadata": {},
   "source": [
    "## 1. 스칼라(Scalar)"
   ]
  },
  {
   "cell_type": "markdown",
   "id": "3f44c0bb-3c06-43bc-b6e2-b323966eebe6",
   "metadata": {},
   "source": [
    "- 하나의 숫자만으로 이루어진 데이터\r\n",
    "- 하나의 표본에 대해 조사 및 수집한 데이터가 한 개\r\n",
    "  - 데이터의 표본 = 데이터의 대상(target)\r\n",
    "  - ex. 1명의 키를 수집\r\n",
    "- 0차원 데이터\r\n",
    "  - 데이터에서 차원이라는 개념은 데이터의 진행방향을 의미한다.\r\n",
    "  - 스칼라는 하나의 데이터만 가지기 때문에 진행방향이 없어 0차원이다.\r\n",
    "- $x$와 같이 알파벳 소문자로 표기\r\n",
    "- 실수(real number)인 숫자 중의 하나로 실수 집합 $\\mathbf{R}$의 원소"
   ]
  },
  {
   "cell_type": "markdown",
   "id": "1b3d3652-1fcc-402c-8b83-6ae2bc6cd11a",
   "metadata": {},
   "source": [
    "## 2. 벡터(Vector)"
   ]
  },
  {
   "cell_type": "markdown",
   "id": "0f7bd905-c339-468c-8ae8-97d4c4b8632f",
   "metadata": {},
   "source": [
    "\n",
    "- 여러 개의 숫자가 특정한 순서대로 모여 있는 것\r\n",
    "- 대부분의 데이터 레코드는 여러 개의 숫자로 이루어진 경우가 많음\r\n",
    "- 여러 개의 데이터의 묶음\r\n",
    "- 1차원 데이터\r\n",
    "  - 데이터에서 차원이라는 개념은 데이터의 진행방향을 의미한다.\r\n",
    "  - 벡터는 데이터가 열 혹은 행의 한 방향으로 는체로 표현한다.\r\n",
    "  - ```python\r\n",
    "    array([[5.1],\r\n",
    "           [3.5],\r\n",
    "           [1.4],\r\n",
    "           [0.2]])\r\n",
    "    ```\r\n",
    "  - 넘파이는 1차원 배열 객체도 대부분 벡터로 인정한다. 이때는 벡터가 마치 하나의 행처럼 표시되어도 실제로는 열이라는 점에 주의한다.\r\n",
    "  - ```python\r\n",
    "    array([5.1, 3.5, 1.4, 0.2])\r\n",
    "    ```\r\n",
    "- 벡터 데이터를 처리하는 프로그램에 따라 열 표기를 정확하게 요구하는 경우도 있으니 주의\r\n",
    "  - 사이킷런(Scikit-Learn)에서 벡터를 요구하는 경우 반드시 열의 개수가 1개인 2차원 배열 객체를 넣어야 함"
   ]
  },
  {
   "cell_type": "markdown",
   "id": "5fdac70d-0128-4108-9a84-7a7b3190a43b",
   "metadata": {},
   "source": [
    "- 벡터는 파이썬 Pandas의 Series에 해당하는 개념이다."
   ]
  },
  {
   "cell_type": "markdown",
   "id": "43c9eafb-5f59-444e-98d0-2bbdf4ed8c5f",
   "metadata": {},
   "source": [
    "- 벡터는 파이썬 Numpy에서 열의 개수가 1개인 2차원 배열(array) 객체로 표현한다."
   ]
  },
  {
   "cell_type": "code",
   "execution_count": 7,
   "id": "5f630fec-bdf1-4847-a0c8-e9ca24a10687",
   "metadata": {},
   "outputs": [
    {
     "data": {
      "text/plain": [
       "array([[5.1],\n",
       "       [3.5],\n",
       "       [1.4],\n",
       "       [0.2]])"
      ]
     },
     "execution_count": 7,
     "metadata": {},
     "output_type": "execute_result"
    }
   ],
   "source": [
    "import numpy as np\n",
    "\n",
    "a = np.array([[5.1],[3.5],[1.4],[0.2]]) \n",
    "a"
   ]
  },
  {
   "cell_type": "markdown",
   "id": "a8b51ff9-5d1a-49d3-864e-264fa2b1e287",
   "metadata": {},
   "source": []
  },
  {
   "cell_type": "markdown",
   "id": "d8ccc34d-9664-4d5c-9b90-a2486fa1dadb",
   "metadata": {},
   "source": [
    "- 넘파이는 1차원 배열 객체도 대부분 벡터로 인정한다. 이때는 벡터가 마치 하나의 행처럼 표시되어도 실제로는 열이라는 점에 주의한다."
   ]
  },
  {
   "cell_type": "code",
   "execution_count": 9,
   "id": "a81e1bd8-6b6f-4dd2-87d9-f5f2d74eaec9",
   "metadata": {},
   "outputs": [
    {
     "data": {
      "text/plain": [
       "array([5.1, 3.5, 1.4, 0.2])"
      ]
     },
     "execution_count": 9,
     "metadata": {},
     "output_type": "execute_result"
    }
   ],
   "source": [
    "b = np.array([5.1, 3.5, 1.4, 0.2])\n",
    "b"
   ]
  },
  {
   "cell_type": "markdown",
   "id": "434789ab-4c2c-40cb-b81a-856c47e27142",
   "metadata": {},
   "source": [
    "- 벡터 데이터를 처리하는 프로그램에 따라 열 표기를 정확하게 요구하는 경우도 있으니 주의\r\n",
    "  - 사이킷런(Scikit-Learn)에서 벡터를 요구하는 경우 반드시 열의 개수가 1개인 2차원 배열 객체를 넣어야 함"
   ]
  },
  {
   "cell_type": "markdown",
   "id": "543da17d-e02d-419f-b6cb-807fb9871816",
   "metadata": {},
   "source": [
    "### 2-1. 열 벡터(Column Vector)\r\n",
    "- $N$개의 행(row), 1개의 열(column)을 가지는 형태\r\n",
    "- 일반적으로 벡터는 열 벡터를 의미한다.\r\n",
    "- 벡터의 원소를 위에서 아래로 내려써서 표기\r\n",
    "\r\n",
    "$$ x = \\begin{bmatrix}x_{1} \\\\x_{2} \\\\\\vdots \\\\x_{N} \\\\\\end{bmatrix}  $$\r\n",
    "\r\n",
    "- $N$개의 표본에 대한 한 가지 종류의 데이터 묶음\r\n",
    "  - ex. 3명에 대한 키를 수집"
   ]
  },
  {
   "cell_type": "markdown",
   "id": "98a6a8b9-9700-4ecb-92c3-add6077dee65",
   "metadata": {},
   "source": [
    "### 2-2. 행 벡터(Row Vector)\r\n",
    "- 1개의 행(row), $N$개의 열(column)을 가지는 형태\r\n",
    "\r\n",
    "$$ x^T = \\begin{bmatrix}x_{1}, x_{2}, \\dots, x_{N} \\end{bmatrix} $$\r\n",
    "\r\n",
    "- 열 벡터를 전치 연산한 것이 행 벡터\r\n",
    "  - 전치(Transpose) 연산 : 행과 열을 바꾸는 연산\r\n",
    "  - $x^T$는 벡터 $x$에 전치(Transpose) 연산을 적용했다는 뜻\r\n",
    "\r\n",
    "- 1개의 표본에 대한 $N$ 가지 종류의 데이터 묶음\r\n",
    "  - ex. 1명에 대한 키, 몸무게, 나이를 수집"
   ]
  },
  {
   "cell_type": "markdown",
   "id": "546bd362-8bfc-446a-91dc-fe08962f2c21",
   "metadata": {},
   "source": [
    "### n-차원 벡터(n-dimensional vector)\r\n",
    "하나의 벡터를 이루는 데이터 개수가 $n$일 때 해당 벡터를 n-차원 벡터(n-dimensional vector)라고 하며 다음처럼 표기한다.\r\n",
    "\r\n",
    "$$\r\n",
    "x = \\begin{bmatrix}\r\n",
    "x_{1} \\\\\r\n",
    "x_{2} \\\\\r\n",
    "\\vdots \\\\\r\n",
    "x_{N} \\\\\r\n",
    "\\end{bmatrix}\r\n",
    "$$\r\n",
    "\r\n",
    "$$ x \\in \\mathbf{R}^N $$"
   ]
  },
  {
   "cell_type": "markdown",
   "id": "e8152eb3-f3ec-4dcc-909b-8eef760a97a3",
   "metadata": {},
   "source": [
    "### 특징 벡터(feature vector)\r\n",
    "데이터 벡터가 특정한 예측 문제에서 입력 데이터로 사용되면 특징 벡터라고 한다."
   ]
  },
  {
   "cell_type": "markdown",
   "id": "3a4164fb-8be7-4bbc-905b-d164acbabdb6",
   "metadata": {},
   "source": [
    "### 벡터 기호 표기\r\n",
    "- 벡터와 스칼라를 구분하기 위해 벡터 기호로 볼드체 벡터 기호 $\\mathbf{x}$나 화살표 벡터 기호 $\\vec{x}$를 사용하기도 한다.\r\n",
    "  - 하지만 모든 값이 벡터나 행렬이므로 굳이 해당 기호를 사용하지 않을 수 있다. 문맥상 스칼라인지 벡터인지 결정해야 한다.\r\n",
    "\r\n",
    "$$\r\n",
    "\\mathbf{x} = \\vec{x} =\r\n",
    "\\begin{bmatrix}\r\n",
    "x_{1} \\\\\r\n",
    "x_{2} \\\\\r\n",
    "\\vdots \\\\\r\n",
    "x_{N} \\\\\r\n",
    "\\end{bmatrix}\r\n",
    "$$"
   ]
  },
  {
   "cell_type": "markdown",
   "id": "fd6bffa3-3338-411c-94a8-9661390e1f39",
   "metadata": {},
   "source": [
    "## 3. 행렬(Matrix)"
   ]
  },
  {
   "cell_type": "markdown",
   "id": "bf56f90d-ae2c-4bb8-b85e-71cb9765df56",
   "metadata": {},
   "source": [
    "복수의 차원을 가지는 데이터 레코드가 다시 여러 개 있는 경우의 데이터를 합쳐서 표기한 것\r\n",
    "\r\n",
    "$$\r\n",
    "X = \r\n",
    "\\begin{bmatrix}\r\n",
    "{\\begin{matrix} x_{1, 1} & x_{1, 2} & \\ldots & x_{1, M}\\end{matrix}}  \\\\\r\n",
    "\\begin{matrix} x_{2, 1} & x_{2, 2} & \\ldots & x_{2, M}\\end{matrix} \\\\\r\n",
    "\\begin{matrix} \\vdots \\end{matrix} \\\\\r\n",
    "\\begin{matrix} x_{N, 1} & x_{N, 2} & \\ldots & x_{N, M}\\end{matrix} \\\\\r\n",
    "\\end{bmatrix}\r\n",
    "$$\r\n",
    "\r\n",
    "$$\r\n",
    "X \\in \\mathbf{R}^{N \\times M}\r\n",
    "$$\r\n",
    "\r\n",
    "- $N$개의 행(row), $M$개의 컬럼(column)을 가지는 형태\r\n",
    "- 복수의 데이터 레코드 집합을 행렬로 나타낼 때 하나의 데이터 레코드가 하나의 행(row)으로 표기한다.\r\n",
    "  - 하나의 데이터 레코드를 단독으로 벡터로 나타낼때는 하나의 열로 나타낸다.\r\n",
    "  - 이는 데이터 분석에서 쓰는 일반적인 관례이기 때문\r\n",
    "- $N$개의 표본(타겟)에 대한 $M$가지 데이터\r\n",
    "  - ex. 3명에 대해 키, 몸무게, 나이를 수집\r\n",
    "\r\n",
    "- 행렬은 $X$와 같이 알파벳 대문자로 표기\r\n",
    "- 행렬의 원소는 $x_{2,3}$와 같이 두개의 숫자 쌍을 아래첨자로 붙여서 표기\r\n",
    "  - 첫 번째 숫자 $2$는 행을 의미\r\n",
    "  - 두 번째 숫자 $3$은 열을 의미\r\n",
    "  - 행과 열의 개수가 10보다 적을 때 쉼표 없이 $x_{23}$라고 표기할 수 있다.\r\n",
    "- 2차원 데이터\r\n",
    "  - 데이터의 진행 방향이 행과 열 각각 두 개"
   ]
  },
  {
   "cell_type": "markdown",
   "id": "3614f467-8e63-4b5c-9b4a-fa57e4e80cb3",
   "metadata": {},
   "source": [
    "- 파이썬 Pandas의 DataFrame에 해당하는 내용"
   ]
  },
  {
   "cell_type": "markdown",
   "id": "2a444121-03db-4b60-b136-d77365017517",
   "metadata": {},
   "source": [
    "- 파이썬 Numpy에서 행렬을 표기할 때 2차원 `ndarray` 객체를 사용한다."
   ]
  },
  {
   "cell_type": "code",
   "execution_count": 10,
   "id": "124e7e12-9163-4621-8ddc-9fcc285528c5",
   "metadata": {},
   "outputs": [
    {
     "data": {
      "text/plain": [
       "array([[11, 12, 13],\n",
       "       [21, 22, 23]])"
      ]
     },
     "execution_count": 10,
     "metadata": {},
     "output_type": "execute_result"
    }
   ],
   "source": [
    "c = np.array([[11,12,13],[21,22,23]])\n",
    "c"
   ]
  },
  {
   "cell_type": "markdown",
   "id": "81ca4d0b-287b-4bfb-88a3-203365d2035a",
   "metadata": {},
   "source": [
    "- 머신러닝은 행렬에 대한 데이터를 다룬다.\r\n",
    "- 행렬로 스칼라, 벡터 표현 가능 \r\n",
    "  - 스칼라와 벡터도 수학적으로는 행렬에 속한다. \r\n",
    "  - 스칼라는 1개의 행, 1개의 열을 가진 행렬로 볼 수 있다.\r\n",
    "    - $$ a \\in \\mathbf{R}^{1\\times 1}  $$\r\n",
    "  - 벡터는 N개의 행, 1개의 열을 가진 행렬로 볼 수 있다.\r\n",
    "    - $$ x \\in \\mathbf{R}^{4\\times 1}  $$\r\n",
    "  - 머신러닝에서 스칼라와 벡터 데이터를 사용해야 할 때 행렬로서 데이터를 표현하여 접근해야 한다."
   ]
  },
  {
   "cell_type": "markdown",
   "id": "aeba8959-94fc-48df-9085-d5505389cbd2",
   "metadata": {},
   "source": [
    "- 특징행렬\n",
    "  - 행렬 데이터를 특정 예측 문제를 풀 때 입력 데이터로 사용하면 해당 행을 특징 행렬이라고 한다.\n",
    "  - 특징 행렬의 크기는 '행의 크기 $\\times$ 열의 크기'로 나타낸다."
   ]
  },
  {
   "cell_type": "markdown",
   "id": "4e51b1ed-5674-4f27-bc3f-71029f9bbf55",
   "metadata": {},
   "source": [
    "## 4. 텐서(Tensor)"
   ]
  },
  {
   "cell_type": "markdown",
   "id": "51ad1646-53ed-4f41-a37e-bc52a2cead86",
   "metadata": {},
   "source": [
    "같은 크기의 행렬이 여러 개 같이 묶여 있는 것\r\n",
    "- 3차원 이상의 다차원 데이터\r\n",
    "  - 데이터 사이언스 분야에서는 흔히 다차원 배열을 텐서라고 부른다.\r\n",
    "  - 참고) 엄격한 수학적 정의로는 텐서는 다차원 배열 자체를 뜻하지 않는다.\r\n",
    "- Rank라는 개념과 관련(딥러닝때 다시 말하기로..)\r\n",
    "\r\n",
    "- 머신러닝에서 다루는 데이터는 매트릭스\r\n",
    "- 딥러닝에서 다루는 텐서\r\n",
    "- 대표적으로 이미지, 영상의 픽셀(pixel)은 RGB에 해당하는 세 가지의 행렬의 묶음, 즉 텐서이다.\r\n",
    "- 행렬과 마찬가지로 텐서로 스칼라, 벡터, 행렬 데이터의 표현이 가능하다."
   ]
  },
  {
   "cell_type": "markdown",
   "id": "fcf49e9b-7beb-40c0-a530-da79bb9c45b0",
   "metadata": {},
   "source": [
    "## 전치 연산(Transpose Operation)"
   ]
  },
  {
   "cell_type": "markdown",
   "id": "125fa5e9-70a3-452c-8a39-63fed90af1c3",
   "metadata": {},
   "source": [
    "- 전치연산은 행렬의 행과 열을 바꾸는 연산\n",
    "  - 연산 : 데이터를 변형시키는 방법\n",
    "- 전치 연산은 벡터나 행렬에 $T$라는 위첨자(superscript)를 붙여서 표기\n",
    "  - $T$는 Transpos를 의미\n",
    "  - 위첨자로 $T$는 대신 프라임(prime)기호 $'$를 붙이는 경우도 있다.\n",
    "\n",
    "$$\n",
    "x \\;\\; \\rightarrow \\;\\; x^T\n",
    "$$\n",
    "\n",
    "$$\n",
    "x_i,_j \\rightarrow  x_j,_i\n",
    "$$\n",
    "\n",
    "- $i$는 행 번호, $j$는 열 번호를 의미\n",
    "\n",
    "- $N\\times M$ 차원의 행렬을 전치 연산하면 $M\\times N$ 차원의 행렬이 된다.\n",
    "\n",
    "$$\n",
    "X = \n",
    "\\begin{bmatrix}\n",
    "\\boxed{\\begin{matrix} x_{1, 1} & x_{1, 2} & x_{1, 3} & x_{1, 4}\\end{matrix}}  \\\\\n",
    "\\begin{matrix} x_{2, 1} & x_{2, 2} & x_{2, 3} & x_{2, 4}\\end{matrix} \\\\\n",
    "\\begin{matrix} x_{3, 1} & x_{3, 2} & x_{3, 3} & x_{3, 4}\\end{matrix} \\\\\n",
    "\\begin{matrix} x_{4, 1} & x_{4, 2} & x_{4, 3} & x_{4, 4}\\end{matrix} \\\\\n",
    "\\begin{matrix} x_{5, 1} & x_{5, 2} & x_{5, 3} & x_{5, 4}\\end{matrix} \\\\\n",
    "\\begin{matrix} x_{6, 1} & x_{6, 2} & x_{6, 3} & x_{6, 4}\\end{matrix} \\\\\n",
    "\\end{bmatrix}\n",
    "\\;\\; \\rightarrow \\;\\;\n",
    "X^T = \n",
    "\\begin{bmatrix}\n",
    "\\boxed{\\begin{matrix} x_{1, 1} \\\\ x_{1, 2} \\\\ x_{1, 3} \\\\ x_{1, 4}\\end{matrix}} &\n",
    "\\begin{matrix} x_{2, 1} \\\\ x_{2, 2} \\\\ x_{2, 3} \\\\ x_{2, 4}\\end{matrix} &\n",
    "\\begin{matrix} x_{3, 1} \\\\ x_{3, 2} \\\\ x_{3, 3} \\\\ x_{3, 4}\\end{matrix} &\n",
    "\\begin{matrix} x_{4, 1} \\\\ x_{4, 2} \\\\ x_{4, 3} \\\\ x_{4, 4}\\end{matrix} &\n",
    "\\begin{matrix} x_{5, 1} \\\\ x_{5, 2} \\\\ x_{5, 3} \\\\ x_{5, 4}\\end{matrix} &\n",
    "\\begin{matrix} x_{6, 1} \\\\ x_{6, 2} \\\\ x_{6, 3} \\\\ x_{6, 4}\\end{matrix} &\n",
    "\\end{bmatrix}\n",
    "$$\n",
    "\n",
    "- 전치 연산을 해도 $i=j$인 데이터는 원래 위치 그대로 있는다.\n",
    "  - $i=j$인 데이터는 주대각 방향에 있다고 표현한다.\n",
    "  - 전치 연산은 주대각 방향을 기준으로 나머지 데이터를 뒤집는 결과가 나타난다."
   ]
  },
  {
   "cell_type": "markdown",
   "id": "421e3fb9-4bae-479d-a110-839674f4ae61",
   "metadata": {},
   "source": [
    "### 벡터의 전치 과정\r\n",
    "벡터에 전치연산을 적용하려면 벡터를 행렬로 표현해야 한다.\r\n",
    "\r\n",
    "- (열)벡터 $x$에 대해 전치 연산을 적용하여 만든 $x^T$는 **행 벡터(row vector)**\r\n",
    "\r\n",
    "$$ x \\in \\mathbf{R}^{N\\times 1} \\rightarrow x^T \\in \\mathbf{R}^{1\\times N} $$\r\n",
    "\r\n",
    "$$ x \\in \\mathbf{R}^{1\\times N} \\rightarrow x^T \\in \\mathbf{R}^{N\\times 1} $$\r\n"
   ]
  },
  {
   "cell_type": "markdown",
   "id": "14961d17-958e-4963-b44d-8047cd56ef62",
   "metadata": {},
   "source": [
    "## 특수한 벡터와 행렬"
   ]
  },
  {
   "cell_type": "markdown",
   "id": "4c736755-86be-4ff3-bc4b-2d8a9738499e",
   "metadata": {},
   "source": [
    "### 영벡터(zeros-vector)\r\n",
    "모든 원소가 0인 $N$차원 벡터\r\n",
    "  - N개의 행, 1개의 열을 가짐\r\n",
    "\r\n",
    "$$ \r\n",
    "\\mathbf{0}_N = \\mathbf{0} = 0 =\r\n",
    "\\begin{bmatrix}\r\n",
    "0 \\\\\r\n",
    "0 \\\\\r\n",
    "\\vdots \\\\\r\n",
    "0 \\\\\r\n",
    "\\end{bmatrix}\r\n",
    "$$\r\n",
    "\r\n",
    "$$ \r\n",
    "\\begin{align}\r\n",
    "0 \\in \\mathbf{R}^{N \\times 1} \r\n",
    "\\tag{2.1.28}\r\n",
    "\\end{align}\r\n",
    "$$"
   ]
  },
  {
   "cell_type": "markdown",
   "id": "94c02f6a-0412-4965-aed7-8e067daf0459",
   "metadata": {},
   "source": [
    "### 일벡터(ones-vector)\r\n",
    "모든 원소가 1인 $N$차원 벡터\r\n",
    "\r\n",
    "$$ \r\n",
    "\\mathbf{1}_N = \\mathbf{1}  = 1 = \r\n",
    "\\begin{bmatrix}\r\n",
    "1 \\\\\r\n",
    "1 \\\\\r\n",
    "\\vdots \\\\\r\n",
    "1 \\\\\r\n",
    "\\end{bmatrix}\r\n",
    "$$\r\n",
    "\r\n",
    "$$ \r\n",
    "1 \\in \\mathbf{R}^{N \\times 1} \r\n",
    "\\tag{2.1.30}\r\n",
    "$$"
   ]
  },
  {
   "cell_type": "markdown",
   "id": "fe5a24f3-426f-4c40-95fd-cc19879dd976",
   "metadata": {},
   "source": [
    "### 정방행렬(square matrix)\r\n",
    "행의 개수와 열의 개수가 같은 행렬\r\n",
    "\r\n",
    "$$ \r\n",
    "\\begin{align}\r\n",
    "X = \r\n",
    "\\begin{bmatrix}\r\n",
    "x_{11} & x_{12} & \\cdots & x_{1N} \\\\\r\n",
    "x_{21} & x_{22} & \\cdots & x_{2N} \\\\\r\n",
    "\\vdots & \\vdots & \\ddots & \\vdots \\\\\r\n",
    "x_{N1} & x_{N12} & \\cdots & x_{NN} \\\\\r\n",
    "\\end{bmatrix}\r\n",
    "\\tag{2.1.31}\r\n",
    "\\end{align}\r\n",
    "$$\r\n",
    "\r\n",
    "$$ \r\n",
    "\\begin{align}\r\n",
    "X \\in \\mathbf{R}^{N \\times N} \r\n",
    "\\tag{2.1.32}\r\n",
    "\\end{align}\r\n",
    "$$"
   ]
  },
  {
   "cell_type": "markdown",
   "id": "09e9e691-6b2c-4ece-b270-1cdd185d9a67",
   "metadata": {},
   "source": [
    "### 대각행렬(diagonal matrix)\r\n",
    "모든 비대각 요소가 0인 행렬\r\n",
    "* 주 대각(main diagonal) : 행렬에서 행과 열이 같은 위치\r\n",
    "  - 주대각을 대각이라고도 한다.\r\n",
    "* 비대각비대각(off-diagonal) : 주대각 위치에 있지 않은 것들\r\n",
    "\r\n",
    "$$ \r\n",
    "D = \r\n",
    "\\begin{bmatrix}\r\n",
    "d_{1} & 0 & \\cdots & 0 \\\\\r\n",
    "0 & d_{2} & \\cdots & 0 \\\\\r\n",
    "\\vdots & \\vdots & \\ddots & \\vdots \\\\\r\n",
    "0 & 0 & \\cdots & d_{M} \\\\\r\n",
    "0 & 0 & \\cdots & 0 \\\\\r\n",
    "0 & 0 & \\cdots & 0 \\\\\r\n",
    "0 & 0 & \\cdots & 0 \\\\\r\n",
    "\\end{bmatrix}\r\n",
    "$$\r\n",
    "\r\n",
    "$$\r\n",
    "D \\in \\mathbf{R}^{N \\times M} \r\n",
    "$$\r\n",
    "\r\n",
    "- 반드시 정방행렬일 필요 없다."
   ]
  },
  {
   "cell_type": "markdown",
   "id": "a00b5018-f9fc-49eb-8887-3482e6f5df64",
   "metadata": {},
   "source": [
    "### 항등행렬\r\n",
    "대각행렬 중에서도 모든 대각성분의 값이 1인 대각행렬\r\n",
    "- 항등행렬은 보통 알파벳 대문자 $I$로 표기\r\n",
    "\r\n",
    "$$ \r\n",
    "I = \r\n",
    "\\begin{bmatrix}\r\n",
    "1 & 0 & \\cdots & 0 \\\\\r\n",
    "0 & 1 & \\cdots & 0 \\\\\r\n",
    "\\vdots & \\vdots & \\ddots & \\vdots \\\\\r\n",
    "0 & 0 & \\cdots & 1 \\\\\r\n",
    "\\end{bmatrix}\r\n",
    "$$\r\n",
    "\r\n",
    "$$ \r\n",
    "I \\in \\mathbf{R}^{N \\times N}\r\n",
    "$$"
   ]
  },
  {
   "cell_type": "markdown",
   "id": "2b21ebe2-3c23-464e-ade6-425d3947d185",
   "metadata": {},
   "source": [
    "### 대칭행렬\r\n",
    "전치연산을 통해서 얻은 전치행렬이 원래의 행렬과 같은 행렬\r\n",
    "- 정방행렬만 대칭행렬이 될 수 있음\r\n",
    "\r\n",
    "$$ \r\n",
    "S^{T} = S \r\n",
    "$$ \r\n",
    "\r\n",
    "$$ \r\n",
    "S \\in \\mathbf{R}^{N \\times N} \r\n",
    "$$"
   ]
  }
 ],
 "metadata": {
  "kernelspec": {
   "display_name": "Python 3 (ipykernel)",
   "language": "python",
   "name": "python3"
  },
  "language_info": {
   "codemirror_mode": {
    "name": "ipython",
    "version": 3
   },
   "file_extension": ".py",
   "mimetype": "text/x-python",
   "name": "python",
   "nbconvert_exporter": "python",
   "pygments_lexer": "ipython3",
   "version": "3.11.6"
  }
 },
 "nbformat": 4,
 "nbformat_minor": 5
}
